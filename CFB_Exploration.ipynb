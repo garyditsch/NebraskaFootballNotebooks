{
 "cells": [
  {
   "cell_type": "code",
   "execution_count": 1,
   "id": "5bc1ecd1-340d-4442-9498-15d3d0594fe6",
   "metadata": {},
   "outputs": [],
   "source": [
    "import os\n",
    "from pprint import pprint\n",
    "import duckdb\n",
    "import pandas as pd"
   ]
  },
  {
   "cell_type": "code",
   "execution_count": 2,
   "id": "bad0d8fe-746e-4290-9651-8bb832ccd306",
   "metadata": {},
   "outputs": [],
   "source": [
    "# Create a DuckDB connection (to a file)\n",
    "conn = duckdb.connect('../CFB_DuckDB.db')"
   ]
  },
  {
   "cell_type": "code",
   "execution_count": 3,
   "id": "95563100-23ce-4701-9daf-23645bfb4919",
   "metadata": {},
   "outputs": [
    {
     "name": "stdout",
     "output_type": "stream",
     "text": [
      "┌───────────────────┬────────────────────┬───────────────────┬───┬───────────────────┬───────────────────┐\n",
      "│      offense      │ offense_conference │      defense      │ … │ end_offense_score │ end_defense_score │\n",
      "│      varchar      │      varchar       │      varchar      │   │       int64       │       int64       │\n",
      "├───────────────────┼────────────────────┼───────────────────┼───┼───────────────────┼───────────────────┤\n",
      "│ Minnesota         │ Big Ten            │ Nebraska          │ … │                 0 │                 0 │\n",
      "│ Nebraska          │ Big Ten            │ Minnesota         │ … │                 0 │                 0 │\n",
      "│ Minnesota         │ Big Ten            │ Nebraska          │ … │                 3 │                 0 │\n",
      "│ Nebraska          │ Big Ten            │ Minnesota         │ … │                 0 │                 3 │\n",
      "│ Minnesota         │ Big Ten            │ Nebraska          │ … │                 3 │                 0 │\n",
      "│ Nebraska          │ Big Ten            │ Minnesota         │ … │                 0 │                 3 │\n",
      "│ Minnesota         │ Big Ten            │ Nebraska          │ … │                 3 │                 0 │\n",
      "│ Nebraska          │ Big Ten            │ Minnesota         │ … │                 7 │                 3 │\n",
      "│ Minnesota         │ Big Ten            │ Nebraska          │ … │                 3 │                 7 │\n",
      "│ Nebraska          │ Big Ten            │ Minnesota         │ … │                 7 │                 3 │\n",
      "│    ·              │    ·               │    ·              │ · │                 · │                 · │\n",
      "│    ·              │    ·               │    ·              │ · │                 · │                 · │\n",
      "│    ·              │    ·               │    ·              │ · │                 · │                 · │\n",
      "│ Northern Illinois │ Mid-American       │ Nebraska          │ … │                 3 │                14 │\n",
      "│ Nebraska          │ Big Ten            │ Northern Illinois │ … │                14 │                 3 │\n",
      "│ Northern Illinois │ Mid-American       │ Nebraska          │ … │                 3 │                14 │\n",
      "│ Nebraska          │ Big Ten            │ Northern Illinois │ … │                21 │                 3 │\n",
      "│ Northern Illinois │ Mid-American       │ Nebraska          │ … │                 3 │                21 │\n",
      "│ Nebraska          │ Big Ten            │ Northern Illinois │ … │                28 │                 3 │\n",
      "│ Northern Illinois │ Mid-American       │ Nebraska          │ … │                 3 │                28 │\n",
      "│ Nebraska          │ Big Ten            │ Northern Illinois │ … │                35 │                 3 │\n",
      "│ Northern Illinois │ Mid-American       │ Nebraska          │ … │                11 │                35 │\n",
      "│ Nebraska          │ Big Ten            │ Northern Illinois │ … │                35 │                11 │\n",
      "├───────────────────┴────────────────────┴───────────────────┴───┴───────────────────┴───────────────────┤\n",
      "│ 71 rows (20 shown)                                                                24 columns (5 shown) │\n",
      "└────────────────────────────────────────────────────────────────────────────────────────────────────────┘\n",
      "\n"
     ]
    }
   ],
   "source": [
    "conn.sql(\"SELECT * FROM drives\").show()"
   ]
  },
  {
   "cell_type": "code",
   "execution_count": 4,
   "id": "ae8e55e6-72f6-4208-a2a9-2689eff25fd4",
   "metadata": {},
   "outputs": [],
   "source": [
    "all_drives_df = conn.sql(\"SELECT * FROM drives\").df()"
   ]
  },
  {
   "cell_type": "code",
   "execution_count": 5,
   "id": "58b59f64-8394-47cf-94ed-c2dd61373aa4",
   "metadata": {},
   "outputs": [],
   "source": [
    "# Close database connection\n",
    "conn.close()"
   ]
  },
  {
   "cell_type": "code",
   "execution_count": 6,
   "id": "d2502ae3-1c9f-48e1-8e7f-a21bd6ef843a",
   "metadata": {},
   "outputs": [
    {
     "name": "stdout",
     "output_type": "stream",
     "text": [
      "71\n"
     ]
    }
   ],
   "source": [
    "print(len(all_drives_df))"
   ]
  },
  {
   "cell_type": "code",
   "execution_count": 7,
   "id": "46012a83-bdbe-4568-885c-0d287902f969",
   "metadata": {},
   "outputs": [
    {
     "name": "stdout",
     "output_type": "stream",
     "text": [
      "Index(['offense', 'offense_conference', 'defense', 'defense_conference',\n",
      "       'game_id', 'id', 'drive_number', 'scoring', 'start_period',\n",
      "       'start_yardline', 'start_yards_to_goal', 'start_time', 'end_period',\n",
      "       'end_yardline', 'end_yards_to_goal', 'end_time', 'plays', 'yards',\n",
      "       'drive_result', 'is_home_offense', 'start_offense_score',\n",
      "       'start_defense_score', 'end_offense_score', 'end_defense_score'],\n",
      "      dtype='object')\n"
     ]
    }
   ],
   "source": [
    "print(all_drives_df.columns)"
   ]
  },
  {
   "cell_type": "code",
   "execution_count": 8,
   "id": "abc10375-0eca-44af-92b5-7933cf6da6f9",
   "metadata": {},
   "outputs": [
    {
     "name": "stdout",
     "output_type": "stream",
     "text": [
      "0            PUNT\n",
      "1            PUNT\n",
      "2              FG\n",
      "3             INT\n",
      "4       MISSED FG\n",
      "         ...     \n",
      "66             TD\n",
      "67            INT\n",
      "68             TD\n",
      "69             TD\n",
      "70    END OF GAME\n",
      "Name: drive_result, Length: 71, dtype: object\n"
     ]
    }
   ],
   "source": [
    "results = all_drives_df['drive_result']\n",
    "print(results)"
   ]
  },
  {
   "cell_type": "code",
   "execution_count": null,
   "id": "671aa686-88ff-4ced-87f7-0e74b9172131",
   "metadata": {},
   "outputs": [],
   "source": []
  }
 ],
 "metadata": {
  "kernelspec": {
   "display_name": "Python 3 (ipykernel)",
   "language": "python",
   "name": "python3"
  },
  "language_info": {
   "codemirror_mode": {
    "name": "ipython",
    "version": 3
   },
   "file_extension": ".py",
   "mimetype": "text/x-python",
   "name": "python",
   "nbconvert_exporter": "python",
   "pygments_lexer": "ipython3",
   "version": "3.12.2"
  }
 },
 "nbformat": 4,
 "nbformat_minor": 5
}
