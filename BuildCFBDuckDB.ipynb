{
 "cells": [
  {
   "cell_type": "code",
   "execution_count": 1,
   "id": "124b2f78-8bdb-4aca-9e92-8c37da9c1ae1",
   "metadata": {},
   "outputs": [
    {
     "data": {
      "text/plain": [
       "True"
      ]
     },
     "execution_count": 1,
     "metadata": {},
     "output_type": "execute_result"
    }
   ],
   "source": [
    "import os\n",
    "from pprint import pprint\n",
    "\n",
    "import duckdb\n",
    "import pandas as pd\n",
    "import cfbd\n",
    "from cfbd.rest import ApiException\n",
    "from dotenv import load_dotenv\n",
    "load_dotenv()"
   ]
  },
  {
   "cell_type": "code",
   "execution_count": 2,
   "id": "7761f053-19df-4dbc-8284-d2378092bf8a",
   "metadata": {},
   "outputs": [],
   "source": [
    "# Get api key\n",
    "api_key = os.getenv(\"CFB_KEY\")\n",
    "\n",
    "# Configure API key authorization: ApiKeyAuth\n",
    "configuration = cfbd.Configuration()\n",
    "configuration.api_key['Authorization'] = api_key\n"
   ]
  },
  {
   "cell_type": "code",
   "execution_count": 3,
   "id": "275b64ec-0f22-4234-88af-4cb7752eeb38",
   "metadata": {},
   "outputs": [],
   "source": [
    "# Uncomment below to setup prefix (e.g. Bearer) for API key, if needed\n",
    "configuration.api_key_prefix['Authorization'] = 'Bearer'\n",
    "\n",
    "# create an instance of the API class with the drives api\n",
    "api_instance = cfbd.DrivesApi(cfbd.ApiClient(configuration))\n",
    "\n",
    "# set params for the data query\n",
    "# year is only required param\n",
    "# season type defaults to regular\n",
    "# docs: https://api.collegefootballdata.com/api/docs/?url=/api-docs.json#/drives/getDrives\n",
    "\n",
    "year = 2023 # int | Year filter\n",
    "season_type = 'regular' # str | Season type filter (optional) (default to regular)\n",
    "week = 3 # int | Week filter (optional)\n",
    "team = 'Nebraska' # str | Team filter (optional)\n",
    "\n",
    "\n",
    "try:\n",
    "    # Drive data and results\n",
    "    api_response = api_instance.get_drives(year, season_type=season_type, week=week, team=team)\n",
    "    # pprint(api_response)\n",
    "except ApiException as e:\n",
    "    print(\"Exception when calling DrivesApi->get_drives: %s\\n\" % e)"
   ]
  },
  {
   "cell_type": "code",
   "execution_count": 4,
   "id": "189c7e08-f440-4416-9576-0eb96d26d542",
   "metadata": {},
   "outputs": [
    {
     "name": "stdout",
     "output_type": "stream",
     "text": [
      "26\n"
     ]
    }
   ],
   "source": [
    "print(len(api_response))"
   ]
  },
  {
   "cell_type": "code",
   "execution_count": 5,
   "id": "bc966dff-dc89-4645-9e98-2cf149e4034a",
   "metadata": {},
   "outputs": [],
   "source": [
    "# Convert the list of Drive objects to a list of dictionaries\n",
    "drives_data = [drive.to_dict() for drive in api_response]"
   ]
  },
  {
   "cell_type": "code",
   "execution_count": 6,
   "id": "df5df4d5-17ef-4312-95a5-398ee18273ed",
   "metadata": {},
   "outputs": [],
   "source": [
    "# Create a DataFrame from the list of dictionaries\n",
    "df_drives = pd.DataFrame(drives_data)"
   ]
  },
  {
   "cell_type": "code",
   "execution_count": 7,
   "id": "32ff4e08-ac10-4818-8996-e368ec31045a",
   "metadata": {},
   "outputs": [
    {
     "data": {
      "text/html": [
       "<div>\n",
       "<style scoped>\n",
       "    .dataframe tbody tr th:only-of-type {\n",
       "        vertical-align: middle;\n",
       "    }\n",
       "\n",
       "    .dataframe tbody tr th {\n",
       "        vertical-align: top;\n",
       "    }\n",
       "\n",
       "    .dataframe thead th {\n",
       "        text-align: right;\n",
       "    }\n",
       "</style>\n",
       "<table border=\"1\" class=\"dataframe\">\n",
       "  <thead>\n",
       "    <tr style=\"text-align: right;\">\n",
       "      <th></th>\n",
       "      <th>offense</th>\n",
       "      <th>offense_conference</th>\n",
       "      <th>defense</th>\n",
       "      <th>defense_conference</th>\n",
       "      <th>game_id</th>\n",
       "      <th>id</th>\n",
       "      <th>drive_number</th>\n",
       "      <th>scoring</th>\n",
       "      <th>start_period</th>\n",
       "      <th>start_yardline</th>\n",
       "      <th>...</th>\n",
       "      <th>end_yards_to_goal</th>\n",
       "      <th>end_time</th>\n",
       "      <th>plays</th>\n",
       "      <th>yards</th>\n",
       "      <th>drive_result</th>\n",
       "      <th>is_home_offense</th>\n",
       "      <th>start_offense_score</th>\n",
       "      <th>start_defense_score</th>\n",
       "      <th>end_offense_score</th>\n",
       "      <th>end_defense_score</th>\n",
       "    </tr>\n",
       "  </thead>\n",
       "  <tbody>\n",
       "    <tr>\n",
       "      <th>0</th>\n",
       "      <td>Northern Illinois</td>\n",
       "      <td>Mid-American</td>\n",
       "      <td>Nebraska</td>\n",
       "      <td>Big Ten</td>\n",
       "      <td>401520237</td>\n",
       "      <td>4015202371</td>\n",
       "      <td>1</td>\n",
       "      <td>False</td>\n",
       "      <td>1</td>\n",
       "      <td>75</td>\n",
       "      <td>...</td>\n",
       "      <td>70</td>\n",
       "      <td>{'minutes': 12, 'seconds': 56}</td>\n",
       "      <td>3</td>\n",
       "      <td>5</td>\n",
       "      <td>PUNT</td>\n",
       "      <td>False</td>\n",
       "      <td>0</td>\n",
       "      <td>0</td>\n",
       "      <td>0</td>\n",
       "      <td>0</td>\n",
       "    </tr>\n",
       "    <tr>\n",
       "      <th>1</th>\n",
       "      <td>Nebraska</td>\n",
       "      <td>Big Ten</td>\n",
       "      <td>Northern Illinois</td>\n",
       "      <td>Mid-American</td>\n",
       "      <td>401520237</td>\n",
       "      <td>4015202372</td>\n",
       "      <td>2</td>\n",
       "      <td>True</td>\n",
       "      <td>1</td>\n",
       "      <td>45</td>\n",
       "      <td>...</td>\n",
       "      <td>0</td>\n",
       "      <td>{'minutes': 9, 'seconds': 39}</td>\n",
       "      <td>6</td>\n",
       "      <td>55</td>\n",
       "      <td>TD</td>\n",
       "      <td>True</td>\n",
       "      <td>0</td>\n",
       "      <td>0</td>\n",
       "      <td>7</td>\n",
       "      <td>0</td>\n",
       "    </tr>\n",
       "    <tr>\n",
       "      <th>2</th>\n",
       "      <td>Northern Illinois</td>\n",
       "      <td>Mid-American</td>\n",
       "      <td>Nebraska</td>\n",
       "      <td>Big Ten</td>\n",
       "      <td>401520237</td>\n",
       "      <td>4015202373</td>\n",
       "      <td>3</td>\n",
       "      <td>False</td>\n",
       "      <td>1</td>\n",
       "      <td>75</td>\n",
       "      <td>...</td>\n",
       "      <td>53</td>\n",
       "      <td>{'minutes': 6, 'seconds': 7}</td>\n",
       "      <td>6</td>\n",
       "      <td>22</td>\n",
       "      <td>PUNT</td>\n",
       "      <td>False</td>\n",
       "      <td>0</td>\n",
       "      <td>7</td>\n",
       "      <td>0</td>\n",
       "      <td>7</td>\n",
       "    </tr>\n",
       "    <tr>\n",
       "      <th>3</th>\n",
       "      <td>Nebraska</td>\n",
       "      <td>Big Ten</td>\n",
       "      <td>Northern Illinois</td>\n",
       "      <td>Mid-American</td>\n",
       "      <td>401520237</td>\n",
       "      <td>4015202374</td>\n",
       "      <td>4</td>\n",
       "      <td>False</td>\n",
       "      <td>1</td>\n",
       "      <td>17</td>\n",
       "      <td>...</td>\n",
       "      <td>95</td>\n",
       "      <td>{'minutes': 5, 'seconds': 21}</td>\n",
       "      <td>2</td>\n",
       "      <td>-12</td>\n",
       "      <td>FUMBLE</td>\n",
       "      <td>True</td>\n",
       "      <td>7</td>\n",
       "      <td>0</td>\n",
       "      <td>7</td>\n",
       "      <td>0</td>\n",
       "    </tr>\n",
       "    <tr>\n",
       "      <th>4</th>\n",
       "      <td>Northern Illinois</td>\n",
       "      <td>Mid-American</td>\n",
       "      <td>Nebraska</td>\n",
       "      <td>Big Ten</td>\n",
       "      <td>401520237</td>\n",
       "      <td>4015202375</td>\n",
       "      <td>5</td>\n",
       "      <td>True</td>\n",
       "      <td>1</td>\n",
       "      <td>5</td>\n",
       "      <td>...</td>\n",
       "      <td>13</td>\n",
       "      <td>{'minutes': 3, 'seconds': 8}</td>\n",
       "      <td>4</td>\n",
       "      <td>-8</td>\n",
       "      <td>FG</td>\n",
       "      <td>False</td>\n",
       "      <td>0</td>\n",
       "      <td>7</td>\n",
       "      <td>3</td>\n",
       "      <td>7</td>\n",
       "    </tr>\n",
       "  </tbody>\n",
       "</table>\n",
       "<p>5 rows × 24 columns</p>\n",
       "</div>"
      ],
      "text/plain": [
       "             offense offense_conference            defense defense_conference  \\\n",
       "0  Northern Illinois       Mid-American           Nebraska            Big Ten   \n",
       "1           Nebraska            Big Ten  Northern Illinois       Mid-American   \n",
       "2  Northern Illinois       Mid-American           Nebraska            Big Ten   \n",
       "3           Nebraska            Big Ten  Northern Illinois       Mid-American   \n",
       "4  Northern Illinois       Mid-American           Nebraska            Big Ten   \n",
       "\n",
       "     game_id          id  drive_number  scoring  start_period  start_yardline  \\\n",
       "0  401520237  4015202371             1    False             1              75   \n",
       "1  401520237  4015202372             2     True             1              45   \n",
       "2  401520237  4015202373             3    False             1              75   \n",
       "3  401520237  4015202374             4    False             1              17   \n",
       "4  401520237  4015202375             5     True             1               5   \n",
       "\n",
       "   ...  end_yards_to_goal                        end_time  plays  yards  \\\n",
       "0  ...                 70  {'minutes': 12, 'seconds': 56}      3      5   \n",
       "1  ...                  0   {'minutes': 9, 'seconds': 39}      6     55   \n",
       "2  ...                 53    {'minutes': 6, 'seconds': 7}      6     22   \n",
       "3  ...                 95   {'minutes': 5, 'seconds': 21}      2    -12   \n",
       "4  ...                 13    {'minutes': 3, 'seconds': 8}      4     -8   \n",
       "\n",
       "   drive_result is_home_offense  start_offense_score  start_defense_score  \\\n",
       "0          PUNT           False                    0                    0   \n",
       "1            TD            True                    0                    0   \n",
       "2          PUNT           False                    0                    7   \n",
       "3        FUMBLE            True                    7                    0   \n",
       "4            FG           False                    0                    7   \n",
       "\n",
       "  end_offense_score  end_defense_score  \n",
       "0                 0                  0  \n",
       "1                 7                  0  \n",
       "2                 0                  7  \n",
       "3                 7                  0  \n",
       "4                 3                  7  \n",
       "\n",
       "[5 rows x 24 columns]"
      ]
     },
     "execution_count": 7,
     "metadata": {},
     "output_type": "execute_result"
    }
   ],
   "source": [
    "df_drives.head()"
   ]
  },
  {
   "cell_type": "code",
   "execution_count": 8,
   "id": "e82ad1ac-ee57-4f07-9968-2d3a4525ab78",
   "metadata": {},
   "outputs": [],
   "source": [
    "# Create a DuckDB connection (to a file)\n",
    "conn = duckdb.connect('../CFB_DuckDB.db')"
   ]
  },
  {
   "cell_type": "code",
   "execution_count": 9,
   "id": "6193147b-4228-48a9-9fd2-0b547cdea0ea",
   "metadata": {},
   "outputs": [],
   "source": [
    "# Insert the DataFrame into a DuckDB table after creating the table\n",
    "# conn.execute(\"CREATE TABLE drives AS SELECT * FROM df_drives\")"
   ]
  },
  {
   "cell_type": "code",
   "execution_count": 10,
   "id": "25a97536-741e-47e4-bdab-6db9033da8f1",
   "metadata": {},
   "outputs": [
    {
     "data": {
      "text/plain": [
       "<duckdb.duckdb.DuckDBPyConnection at 0x11138b270>"
      ]
     },
     "execution_count": 10,
     "metadata": {},
     "output_type": "execute_result"
    }
   ],
   "source": [
    "# Insert the dataframe into the DuckDB table that already exists\n",
    "conn.execute(\"INSERT INTO drives SELECT * FROM df_drives\")"
   ]
  },
  {
   "cell_type": "code",
   "execution_count": 11,
   "id": "915ac599-0feb-4984-88cb-30b2c28eac88",
   "metadata": {},
   "outputs": [],
   "source": [
    "# Close database connection\n",
    "conn.close()"
   ]
  },
  {
   "cell_type": "code",
   "execution_count": null,
   "id": "c065610d-ad21-4d45-84d8-0a1d31064e3a",
   "metadata": {},
   "outputs": [],
   "source": []
  }
 ],
 "metadata": {
  "kernelspec": {
   "display_name": "Python 3 (ipykernel)",
   "language": "python",
   "name": "python3"
  },
  "language_info": {
   "codemirror_mode": {
    "name": "ipython",
    "version": 3
   },
   "file_extension": ".py",
   "mimetype": "text/x-python",
   "name": "python",
   "nbconvert_exporter": "python",
   "pygments_lexer": "ipython3",
   "version": "3.12.2"
  }
 },
 "nbformat": 4,
 "nbformat_minor": 5
}
