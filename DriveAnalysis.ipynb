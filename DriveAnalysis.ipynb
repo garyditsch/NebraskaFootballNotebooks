{
 "cells": [
  {
   "cell_type": "code",
   "execution_count": 1,
   "id": "1cc53ea5-6777-4238-9690-f44a8b173836",
   "metadata": {},
   "outputs": [],
   "source": [
    "import os\n",
    "import sqlite3\n",
    "import pandas as pd\n",
    "import matplotlib.pyplot as plt"
   ]
  },
  {
   "cell_type": "code",
   "execution_count": 2,
   "id": "bef33557-e5e3-4e73-9630-71233e54edaf",
   "metadata": {},
   "outputs": [],
   "source": [
    "## Get Drive data\n",
    "\n",
    "connection = sqlite3.connect('../2023_SqliteDV.db')\n",
    "\n",
    "drive_query = \"SELECT * FROM drives\"\n",
    "\n",
    "drive_df = pd.read_sql_query(drive_query, connection)"
   ]
  },
  {
   "cell_type": "code",
   "execution_count": 3,
   "id": "71142366-0578-4f84-9c5a-8d1b6ba6721e",
   "metadata": {},
   "outputs": [],
   "source": [
    "## Get Play data\n",
    "\n",
    "play_query = \"SELECT * FROM plays\"\n",
    "\n",
    "play_df = pd.read_sql_query(play_query, connection)"
   ]
  },
  {
   "cell_type": "code",
   "execution_count": 4,
   "id": "7c1cf665-6231-41da-adaa-198d9c3d2999",
   "metadata": {},
   "outputs": [],
   "source": [
    "connection.close()"
   ]
  },
  {
   "cell_type": "code",
   "execution_count": 5,
   "id": "84fe9eae-3778-4eea-93fa-10c37109549d",
   "metadata": {},
   "outputs": [
    {
     "data": {
      "text/html": [
       "<div>\n",
       "<style scoped>\n",
       "    .dataframe tbody tr th:only-of-type {\n",
       "        vertical-align: middle;\n",
       "    }\n",
       "\n",
       "    .dataframe tbody tr th {\n",
       "        vertical-align: top;\n",
       "    }\n",
       "\n",
       "    .dataframe thead th {\n",
       "        text-align: right;\n",
       "    }\n",
       "</style>\n",
       "<table border=\"1\" class=\"dataframe\">\n",
       "  <thead>\n",
       "    <tr style=\"text-align: right;\">\n",
       "      <th></th>\n",
       "      <th>Offense</th>\n",
       "      <th>Offense Conference</th>\n",
       "      <th>Defense</th>\n",
       "      <th>Defense Conference</th>\n",
       "      <th>Game Id</th>\n",
       "      <th>Id</th>\n",
       "      <th>Drive Number</th>\n",
       "      <th>Scoring</th>\n",
       "      <th>Start Period</th>\n",
       "      <th>Start Yardline</th>\n",
       "      <th>...</th>\n",
       "      <th>Elapsed Minutes</th>\n",
       "      <th>Elapsed Seconds</th>\n",
       "      <th>Plays</th>\n",
       "      <th>Yards</th>\n",
       "      <th>Drive Result</th>\n",
       "      <th>Is Home Offense</th>\n",
       "      <th>Start Offense Score</th>\n",
       "      <th>Start Defense Score</th>\n",
       "      <th>End Offense Score</th>\n",
       "      <th>End Defense Score</th>\n",
       "    </tr>\n",
       "  </thead>\n",
       "  <tbody>\n",
       "    <tr>\n",
       "      <th>0</th>\n",
       "      <td>Iowa</td>\n",
       "      <td>Big Ten</td>\n",
       "      <td>Nebraska</td>\n",
       "      <td>Big Ten</td>\n",
       "      <td>401520425</td>\n",
       "      <td>4015204251</td>\n",
       "      <td>1</td>\n",
       "      <td>0</td>\n",
       "      <td>1</td>\n",
       "      <td>75</td>\n",
       "      <td>...</td>\n",
       "      <td>1</td>\n",
       "      <td>30</td>\n",
       "      <td>3</td>\n",
       "      <td>1</td>\n",
       "      <td>PUNT</td>\n",
       "      <td>0</td>\n",
       "      <td>0</td>\n",
       "      <td>0</td>\n",
       "      <td>0</td>\n",
       "      <td>0</td>\n",
       "    </tr>\n",
       "    <tr>\n",
       "      <th>1</th>\n",
       "      <td>Nebraska</td>\n",
       "      <td>Big Ten</td>\n",
       "      <td>Iowa</td>\n",
       "      <td>Big Ten</td>\n",
       "      <td>401520425</td>\n",
       "      <td>4015204252</td>\n",
       "      <td>2</td>\n",
       "      <td>0</td>\n",
       "      <td>1</td>\n",
       "      <td>33</td>\n",
       "      <td>...</td>\n",
       "      <td>3</td>\n",
       "      <td>9</td>\n",
       "      <td>6</td>\n",
       "      <td>21</td>\n",
       "      <td>PUNT</td>\n",
       "      <td>1</td>\n",
       "      <td>0</td>\n",
       "      <td>0</td>\n",
       "      <td>0</td>\n",
       "      <td>0</td>\n",
       "    </tr>\n",
       "    <tr>\n",
       "      <th>2</th>\n",
       "      <td>Iowa</td>\n",
       "      <td>Big Ten</td>\n",
       "      <td>Nebraska</td>\n",
       "      <td>Big Ten</td>\n",
       "      <td>401520425</td>\n",
       "      <td>4015204253</td>\n",
       "      <td>3</td>\n",
       "      <td>0</td>\n",
       "      <td>1</td>\n",
       "      <td>90</td>\n",
       "      <td>...</td>\n",
       "      <td>5</td>\n",
       "      <td>39</td>\n",
       "      <td>11</td>\n",
       "      <td>37</td>\n",
       "      <td>PUNT</td>\n",
       "      <td>0</td>\n",
       "      <td>0</td>\n",
       "      <td>0</td>\n",
       "      <td>0</td>\n",
       "      <td>0</td>\n",
       "    </tr>\n",
       "    <tr>\n",
       "      <th>3</th>\n",
       "      <td>Iowa</td>\n",
       "      <td>Big Ten</td>\n",
       "      <td>Nebraska</td>\n",
       "      <td>Big Ten</td>\n",
       "      <td>401520425</td>\n",
       "      <td>4015204254</td>\n",
       "      <td>4</td>\n",
       "      <td>0</td>\n",
       "      <td>1</td>\n",
       "      <td>17</td>\n",
       "      <td>...</td>\n",
       "      <td>2</td>\n",
       "      <td>11</td>\n",
       "      <td>5</td>\n",
       "      <td>5</td>\n",
       "      <td>MISSED FG</td>\n",
       "      <td>0</td>\n",
       "      <td>0</td>\n",
       "      <td>0</td>\n",
       "      <td>0</td>\n",
       "      <td>0</td>\n",
       "    </tr>\n",
       "    <tr>\n",
       "      <th>4</th>\n",
       "      <td>Nebraska</td>\n",
       "      <td>Big Ten</td>\n",
       "      <td>Iowa</td>\n",
       "      <td>Big Ten</td>\n",
       "      <td>401520425</td>\n",
       "      <td>4015204255</td>\n",
       "      <td>5</td>\n",
       "      <td>0</td>\n",
       "      <td>1</td>\n",
       "      <td>20</td>\n",
       "      <td>...</td>\n",
       "      <td>1</td>\n",
       "      <td>10</td>\n",
       "      <td>3</td>\n",
       "      <td>4</td>\n",
       "      <td>PUNT</td>\n",
       "      <td>1</td>\n",
       "      <td>0</td>\n",
       "      <td>0</td>\n",
       "      <td>0</td>\n",
       "      <td>0</td>\n",
       "    </tr>\n",
       "  </tbody>\n",
       "</table>\n",
       "<p>5 rows × 28 columns</p>\n",
       "</div>"
      ],
      "text/plain": [
       "    Offense Offense Conference   Defense Defense Conference    Game Id  \\\n",
       "0      Iowa            Big Ten  Nebraska            Big Ten  401520425   \n",
       "1  Nebraska            Big Ten      Iowa            Big Ten  401520425   \n",
       "2      Iowa            Big Ten  Nebraska            Big Ten  401520425   \n",
       "3      Iowa            Big Ten  Nebraska            Big Ten  401520425   \n",
       "4  Nebraska            Big Ten      Iowa            Big Ten  401520425   \n",
       "\n",
       "           Id  Drive Number  Scoring  Start Period  Start Yardline  ...  \\\n",
       "0  4015204251             1        0             1              75  ...   \n",
       "1  4015204252             2        0             1              33  ...   \n",
       "2  4015204253             3        0             1              90  ...   \n",
       "3  4015204254             4        0             1              17  ...   \n",
       "4  4015204255             5        0             1              20  ...   \n",
       "\n",
       "   Elapsed Minutes  Elapsed Seconds  Plays  Yards  Drive Result  \\\n",
       "0                1               30      3      1          PUNT   \n",
       "1                3                9      6     21          PUNT   \n",
       "2                5               39     11     37          PUNT   \n",
       "3                2               11      5      5     MISSED FG   \n",
       "4                1               10      3      4          PUNT   \n",
       "\n",
       "   Is Home Offense  Start Offense Score  Start Defense Score  \\\n",
       "0                0                    0                    0   \n",
       "1                1                    0                    0   \n",
       "2                0                    0                    0   \n",
       "3                0                    0                    0   \n",
       "4                1                    0                    0   \n",
       "\n",
       "   End Offense Score  End Defense Score  \n",
       "0                  0                  0  \n",
       "1                  0                  0  \n",
       "2                  0                  0  \n",
       "3                  0                  0  \n",
       "4                  0                  0  \n",
       "\n",
       "[5 rows x 28 columns]"
      ]
     },
     "execution_count": 5,
     "metadata": {},
     "output_type": "execute_result"
    }
   ],
   "source": [
    "drive_df.head()"
   ]
  },
  {
   "cell_type": "code",
   "execution_count": 6,
   "id": "fbdbe1bb-9958-4eb8-9237-3d44cc998f32",
   "metadata": {},
   "outputs": [
    {
     "data": {
      "text/plain": [
       "Drive Result\n",
       "DOWNS                19\n",
       "END OF GAME           7\n",
       "END OF HALF           7\n",
       "FG                   26\n",
       "FUMBLE               17\n",
       "FUMBLE RETURN TD      1\n",
       "INT                  25\n",
       "MISSED FG            12\n",
       "MISSED FG TD          1\n",
       "PUNT                123\n",
       "TD                   49\n",
       "dtype: int64"
      ]
     },
     "execution_count": 6,
     "metadata": {},
     "output_type": "execute_result"
    }
   ],
   "source": [
    "drive_df.groupby(\"Drive Result\").size()"
   ]
  },
  {
   "cell_type": "code",
   "execution_count": 7,
   "id": "5d45fd28-a418-403e-85b0-3ea59bf96958",
   "metadata": {},
   "outputs": [
    {
     "name": "stdout",
     "output_type": "stream",
     "text": [
      "144\n"
     ]
    },
    {
     "data": {
      "text/plain": [
       "Drive Result\n",
       "DOWNS                6\n",
       "END OF GAME          7\n",
       "END OF HALF          3\n",
       "FG                   9\n",
       "FUMBLE              12\n",
       "FUMBLE RETURN TD     1\n",
       "INT                 16\n",
       "MISSED FG            6\n",
       "PUNT                58\n",
       "TD                  26\n",
       "dtype: int64"
      ]
     },
     "execution_count": 7,
     "metadata": {},
     "output_type": "execute_result"
    }
   ],
   "source": [
    "neb_drives = drive_df[drive_df['Offense'] == 'Nebraska']\n",
    "print(len(neb_drives))\n",
    "neb_drives.groupby('Drive Result').size()"
   ]
  },
  {
   "cell_type": "code",
   "execution_count": 8,
   "id": "49232cda-b413-44e2-825f-98e61654ec01",
   "metadata": {},
   "outputs": [],
   "source": [
    "sorted_df = neb_drives.sort_values(by=['Game Id', 'Id'], ascending=[True, True])"
   ]
  },
  {
   "cell_type": "code",
   "execution_count": 9,
   "id": "c48120c6-ec03-46dd-adb5-221eba6df0fa",
   "metadata": {},
   "outputs": [
    {
     "name": "stdout",
     "output_type": "stream",
     "text": [
      "144\n"
     ]
    }
   ],
   "source": [
    "print(len(sorted_df))"
   ]
  },
  {
   "cell_type": "code",
   "execution_count": 10,
   "id": "8f672dce-e392-424a-95d9-547cdedd9894",
   "metadata": {},
   "outputs": [
    {
     "data": {
      "text/html": [
       "<div>\n",
       "<style scoped>\n",
       "    .dataframe tbody tr th:only-of-type {\n",
       "        vertical-align: middle;\n",
       "    }\n",
       "\n",
       "    .dataframe tbody tr th {\n",
       "        vertical-align: top;\n",
       "    }\n",
       "\n",
       "    .dataframe thead th {\n",
       "        text-align: right;\n",
       "    }\n",
       "</style>\n",
       "<table border=\"1\" class=\"dataframe\">\n",
       "  <thead>\n",
       "    <tr style=\"text-align: right;\">\n",
       "      <th></th>\n",
       "      <th>Offense</th>\n",
       "      <th>Offense Conference</th>\n",
       "      <th>Defense</th>\n",
       "      <th>Defense Conference</th>\n",
       "      <th>Game Id</th>\n",
       "      <th>Id</th>\n",
       "      <th>Drive Number</th>\n",
       "      <th>Scoring</th>\n",
       "      <th>Start Period</th>\n",
       "      <th>Start Yardline</th>\n",
       "      <th>...</th>\n",
       "      <th>Elapsed Minutes</th>\n",
       "      <th>Elapsed Seconds</th>\n",
       "      <th>Plays</th>\n",
       "      <th>Yards</th>\n",
       "      <th>Drive Result</th>\n",
       "      <th>Is Home Offense</th>\n",
       "      <th>Start Offense Score</th>\n",
       "      <th>Start Defense Score</th>\n",
       "      <th>End Offense Score</th>\n",
       "      <th>End Defense Score</th>\n",
       "    </tr>\n",
       "  </thead>\n",
       "  <tbody>\n",
       "    <tr>\n",
       "      <th>137</th>\n",
       "      <td>Nebraska</td>\n",
       "      <td>Big Ten</td>\n",
       "      <td>Minnesota</td>\n",
       "      <td>Big Ten</td>\n",
       "      <td>401520148</td>\n",
       "      <td>4015201482</td>\n",
       "      <td>2</td>\n",
       "      <td>0</td>\n",
       "      <td>1</td>\n",
       "      <td>99</td>\n",
       "      <td>...</td>\n",
       "      <td>4</td>\n",
       "      <td>33</td>\n",
       "      <td>6</td>\n",
       "      <td>32</td>\n",
       "      <td>PUNT</td>\n",
       "      <td>0</td>\n",
       "      <td>0</td>\n",
       "      <td>0</td>\n",
       "      <td>0</td>\n",
       "      <td>0</td>\n",
       "    </tr>\n",
       "    <tr>\n",
       "      <th>139</th>\n",
       "      <td>Nebraska</td>\n",
       "      <td>Big Ten</td>\n",
       "      <td>Minnesota</td>\n",
       "      <td>Big Ten</td>\n",
       "      <td>401520148</td>\n",
       "      <td>4015201484</td>\n",
       "      <td>4</td>\n",
       "      <td>0</td>\n",
       "      <td>2</td>\n",
       "      <td>82</td>\n",
       "      <td>...</td>\n",
       "      <td>3</td>\n",
       "      <td>43</td>\n",
       "      <td>7</td>\n",
       "      <td>33</td>\n",
       "      <td>INT</td>\n",
       "      <td>0</td>\n",
       "      <td>0</td>\n",
       "      <td>3</td>\n",
       "      <td>0</td>\n",
       "      <td>3</td>\n",
       "    </tr>\n",
       "    <tr>\n",
       "      <th>141</th>\n",
       "      <td>Nebraska</td>\n",
       "      <td>Big Ten</td>\n",
       "      <td>Minnesota</td>\n",
       "      <td>Big Ten</td>\n",
       "      <td>401520148</td>\n",
       "      <td>4015201486</td>\n",
       "      <td>6</td>\n",
       "      <td>0</td>\n",
       "      <td>2</td>\n",
       "      <td>64</td>\n",
       "      <td>...</td>\n",
       "      <td>3</td>\n",
       "      <td>32</td>\n",
       "      <td>11</td>\n",
       "      <td>58</td>\n",
       "      <td>INT</td>\n",
       "      <td>0</td>\n",
       "      <td>0</td>\n",
       "      <td>3</td>\n",
       "      <td>0</td>\n",
       "      <td>3</td>\n",
       "    </tr>\n",
       "    <tr>\n",
       "      <th>143</th>\n",
       "      <td>Nebraska</td>\n",
       "      <td>Big Ten</td>\n",
       "      <td>Minnesota</td>\n",
       "      <td>Big Ten</td>\n",
       "      <td>401520148</td>\n",
       "      <td>4015201488</td>\n",
       "      <td>8</td>\n",
       "      <td>1</td>\n",
       "      <td>3</td>\n",
       "      <td>35</td>\n",
       "      <td>...</td>\n",
       "      <td>0</td>\n",
       "      <td>48</td>\n",
       "      <td>2</td>\n",
       "      <td>35</td>\n",
       "      <td>TD</td>\n",
       "      <td>0</td>\n",
       "      <td>0</td>\n",
       "      <td>3</td>\n",
       "      <td>7</td>\n",
       "      <td>3</td>\n",
       "    </tr>\n",
       "    <tr>\n",
       "      <th>145</th>\n",
       "      <td>Nebraska</td>\n",
       "      <td>Big Ten</td>\n",
       "      <td>Minnesota</td>\n",
       "      <td>Big Ten</td>\n",
       "      <td>401520148</td>\n",
       "      <td>40152014810</td>\n",
       "      <td>10</td>\n",
       "      <td>0</td>\n",
       "      <td>3</td>\n",
       "      <td>58</td>\n",
       "      <td>...</td>\n",
       "      <td>3</td>\n",
       "      <td>57</td>\n",
       "      <td>6</td>\n",
       "      <td>2</td>\n",
       "      <td>PUNT</td>\n",
       "      <td>0</td>\n",
       "      <td>7</td>\n",
       "      <td>3</td>\n",
       "      <td>7</td>\n",
       "      <td>3</td>\n",
       "    </tr>\n",
       "  </tbody>\n",
       "</table>\n",
       "<p>5 rows × 28 columns</p>\n",
       "</div>"
      ],
      "text/plain": [
       "      Offense Offense Conference    Defense Defense Conference    Game Id  \\\n",
       "137  Nebraska            Big Ten  Minnesota            Big Ten  401520148   \n",
       "139  Nebraska            Big Ten  Minnesota            Big Ten  401520148   \n",
       "141  Nebraska            Big Ten  Minnesota            Big Ten  401520148   \n",
       "143  Nebraska            Big Ten  Minnesota            Big Ten  401520148   \n",
       "145  Nebraska            Big Ten  Minnesota            Big Ten  401520148   \n",
       "\n",
       "              Id  Drive Number  Scoring  Start Period  Start Yardline  ...  \\\n",
       "137   4015201482             2        0             1              99  ...   \n",
       "139   4015201484             4        0             2              82  ...   \n",
       "141   4015201486             6        0             2              64  ...   \n",
       "143   4015201488             8        1             3              35  ...   \n",
       "145  40152014810            10        0             3              58  ...   \n",
       "\n",
       "     Elapsed Minutes  Elapsed Seconds  Plays  Yards  Drive Result  \\\n",
       "137                4               33      6     32          PUNT   \n",
       "139                3               43      7     33           INT   \n",
       "141                3               32     11     58           INT   \n",
       "143                0               48      2     35            TD   \n",
       "145                3               57      6      2          PUNT   \n",
       "\n",
       "     Is Home Offense  Start Offense Score  Start Defense Score  \\\n",
       "137                0                    0                    0   \n",
       "139                0                    0                    3   \n",
       "141                0                    0                    3   \n",
       "143                0                    0                    3   \n",
       "145                0                    7                    3   \n",
       "\n",
       "     End Offense Score  End Defense Score  \n",
       "137                  0                  0  \n",
       "139                  0                  3  \n",
       "141                  0                  3  \n",
       "143                  7                  3  \n",
       "145                  7                  3  \n",
       "\n",
       "[5 rows x 28 columns]"
      ]
     },
     "execution_count": 10,
     "metadata": {},
     "output_type": "execute_result"
    }
   ],
   "source": [
    "sorted_df.head()"
   ]
  },
  {
   "cell_type": "code",
   "execution_count": 11,
   "id": "6526a62d-3410-4731-94ba-af5da27a79eb",
   "metadata": {},
   "outputs": [],
   "source": [
    "drive_results_by_game = {}\n",
    "\n",
    "defenses = ['Minnesota', 'Colorado', 'Northern Illinois', 'Louisiana Tech', 'Michigan', 'Illinois', 'Northwestern', 'Purdue', 'Michigan State', 'Maryland', 'Wisconsin', 'Iowa']\n",
    "\n",
    "for defense in defenses: \n",
    "    neb_drives = sorted_df[(sorted_df['Offense'] == 'Nebraska') & (sorted_df['Defense'] == defense)]\n",
    "    result = neb_drives['Drive Result'].tolist()\n",
    "    drive_results_by_game[defense] = result\n",
    "    \n",
    "    "
   ]
  },
  {
   "cell_type": "code",
   "execution_count": 12,
   "id": "3355417d-5342-4eb3-a2fe-b4fc7dd113ab",
   "metadata": {},
   "outputs": [
    {
     "name": "stdout",
     "output_type": "stream",
     "text": [
      "{'Minnesota': ['PUNT', 'INT', 'INT', 'TD', 'PUNT', 'FG', 'PUNT', 'FUMBLE', 'INT'], 'Colorado': ['FUMBLE', 'PUNT', 'PUNT', 'MISSED FG', 'FUMBLE', 'INT', 'PUNT', 'TD', 'PUNT', 'FUMBLE', 'DOWNS', 'DOWNS', 'TD'], 'Northern Illinois': ['TD', 'FUMBLE', 'PUNT', 'PUNT', 'PUNT', 'TD', 'PUNT', 'PUNT', 'PUNT', 'TD', 'TD', 'TD', 'END OF GAME'], 'Louisiana Tech': ['PUNT', 'PUNT', 'TD', 'PUNT', 'MISSED FG', 'TD', 'PUNT', 'TD', 'TD', 'PUNT', 'PUNT', 'END OF GAME'], 'Michigan': ['INT', 'DOWNS', 'PUNT', 'PUNT', 'END OF HALF', 'MISSED FG', 'PUNT', 'DOWNS', 'TD', 'END OF GAME'], 'Illinois': ['FG', 'PUNT', 'TD', 'TD', 'PUNT', 'PUNT', 'END OF HALF', 'PUNT', 'FG', 'MISSED FG', 'FUMBLE', 'INT', 'FUMBLE', 'END OF GAME'], 'Northwestern': ['INT', 'PUNT', 'INT', 'FG', 'PUNT', 'TD', 'PUNT', 'PUNT', 'PUNT', 'TD', 'PUNT', 'PUNT', 'END OF GAME'], 'Purdue': ['PUNT', 'PUNT', 'TD', 'TD', 'PUNT', 'END OF HALF', 'FUMBLE', 'PUNT', 'PUNT', 'FG', 'FUMBLE', 'FUMBLE RETURN TD', 'TD', 'END OF GAME'], 'Michigan State': ['PUNT', 'INT', 'TD', 'PUNT', 'FG', 'PUNT', 'PUNT', 'PUNT', 'PUNT', 'INT', 'TD', 'FUMBLE', 'END OF GAME'], 'Maryland': ['INT', 'PUNT', 'DOWNS', 'INT', 'PUNT', 'TD', 'FG', 'FUMBLE', 'INT', 'INT'], 'Wisconsin': ['TD', 'TD', 'DOWNS', 'PUNT', 'MISSED FG', 'PUNT', 'PUNT', 'PUNT', 'PUNT', 'FG', 'INT'], 'Iowa': ['PUNT', 'PUNT', 'FUMBLE', 'TD', 'PUNT', 'PUNT', 'FG', 'PUNT', 'PUNT', 'MISSED FG', 'PUNT', 'INT']}\n"
     ]
    }
   ],
   "source": [
    "print(drive_results_by_game)"
   ]
  },
  {
   "cell_type": "code",
   "execution_count": 13,
   "id": "d9717958-6c5f-41bb-b41f-17980406d4dc",
   "metadata": {},
   "outputs": [],
   "source": [
    "drive_result = sorted_df['Drive Result'].tolist()"
   ]
  },
  {
   "cell_type": "code",
   "execution_count": 14,
   "id": "2c2fa856-0656-4175-a6fb-d9403de70d10",
   "metadata": {},
   "outputs": [
    {
     "name": "stdout",
     "output_type": "stream",
     "text": [
      "144\n"
     ]
    }
   ],
   "source": [
    "print(len(drive_result))"
   ]
  },
  {
   "cell_type": "code",
   "execution_count": 15,
   "id": "f4f07371-c411-4752-8520-d49dcc09419c",
   "metadata": {},
   "outputs": [
    {
     "name": "stdout",
     "output_type": "stream",
     "text": [
      "['PUNT', 'INT', 'INT', 'TD', 'PUNT', 'FG', 'PUNT', 'FUMBLE', 'INT', 'FUMBLE', 'PUNT', 'PUNT', 'MISSED FG', 'FUMBLE', 'INT', 'PUNT', 'TD', 'PUNT', 'FUMBLE', 'DOWNS', 'DOWNS', 'TD', 'TD', 'FUMBLE', 'PUNT', 'PUNT', 'PUNT', 'TD', 'PUNT', 'PUNT', 'PUNT', 'TD', 'TD', 'TD', 'END OF GAME', 'PUNT', 'PUNT', 'TD', 'PUNT', 'MISSED FG', 'TD', 'PUNT', 'TD', 'TD', 'PUNT', 'PUNT', 'END OF GAME', 'INT', 'DOWNS', 'PUNT', 'PUNT', 'END OF HALF', 'MISSED FG', 'PUNT', 'DOWNS', 'TD', 'END OF GAME', 'FG', 'PUNT', 'TD', 'TD', 'PUNT', 'PUNT', 'END OF HALF', 'PUNT', 'FG', 'MISSED FG', 'FUMBLE', 'INT', 'FUMBLE', 'END OF GAME', 'INT', 'PUNT', 'INT', 'FG', 'PUNT', 'TD', 'PUNT', 'PUNT', 'PUNT', 'TD', 'PUNT', 'PUNT', 'END OF GAME', 'PUNT', 'PUNT', 'TD', 'TD', 'PUNT', 'END OF HALF', 'FUMBLE', 'PUNT', 'PUNT', 'FG', 'FUMBLE', 'FUMBLE RETURN TD', 'TD', 'END OF GAME', 'PUNT', 'INT', 'TD', 'PUNT', 'FG', 'PUNT', 'PUNT', 'PUNT', 'PUNT', 'INT', 'TD', 'FUMBLE', 'END OF GAME', 'INT', 'PUNT', 'DOWNS', 'INT', 'PUNT', 'TD', 'FG', 'FUMBLE', 'INT', 'INT', 'TD', 'TD', 'DOWNS', 'PUNT', 'MISSED FG', 'PUNT', 'PUNT', 'PUNT', 'PUNT', 'FG', 'INT', 'PUNT', 'PUNT', 'FUMBLE', 'TD', 'PUNT', 'PUNT', 'FG', 'PUNT', 'PUNT', 'MISSED FG', 'PUNT', 'INT']\n"
     ]
    }
   ],
   "source": [
    "print(drive_result)"
   ]
  },
  {
   "cell_type": "code",
   "execution_count": 16,
   "id": "7310cb07-38c9-4449-9206-b0a3301eac71",
   "metadata": {},
   "outputs": [
    {
     "name": "stdout",
     "output_type": "stream",
     "text": [
      "12\n"
     ]
    }
   ],
   "source": [
    "fumbles = sorted_df[sorted_df['Drive Result'] == 'FUMBLE']\n",
    "print(len(fumbles))"
   ]
  },
  {
   "cell_type": "code",
   "execution_count": 17,
   "id": "84e47b94-6e03-40c5-9aa0-70d58ad19dbd",
   "metadata": {},
   "outputs": [
    {
     "data": {
      "text/plain": [
       "Drive Result\n",
       "DOWNS                6\n",
       "END OF GAME          7\n",
       "END OF HALF          3\n",
       "FG                   9\n",
       "FUMBLE              12\n",
       "FUMBLE RETURN TD     1\n",
       "INT                 16\n",
       "MISSED FG            6\n",
       "PUNT                58\n",
       "TD                  26\n",
       "dtype: int64"
      ]
     },
     "execution_count": 17,
     "metadata": {},
     "output_type": "execute_result"
    }
   ],
   "source": [
    "sorted_df.groupby('Drive Result').size()"
   ]
  },
  {
   "cell_type": "code",
   "execution_count": 18,
   "id": "e6e7ba0e-ea6c-4e6e-956f-93b38fded374",
   "metadata": {},
   "outputs": [
    {
     "name": "stdout",
     "output_type": "stream",
     "text": [
      "Minnesota\n",
      "Drives 9\n",
      "Fumbles 1\n",
      "Interceptions 3\n",
      "----\n",
      "Colorado\n",
      "Drives 13\n",
      "Fumbles 3\n",
      "Interceptions 1\n",
      "----\n",
      "Northern Illinois\n",
      "Drives 13\n",
      "Fumbles 1\n",
      "Interceptions 0\n",
      "----\n",
      "Louisiana Tech\n",
      "Drives 12\n",
      "Fumbles 0\n",
      "Interceptions 0\n",
      "----\n",
      "Michigan\n",
      "Drives 10\n",
      "Fumbles 0\n",
      "Interceptions 1\n",
      "----\n",
      "Illinois\n",
      "Drives 14\n",
      "Fumbles 2\n",
      "Interceptions 1\n",
      "----\n",
      "Northwestern\n",
      "Drives 13\n",
      "Fumbles 0\n",
      "Interceptions 2\n",
      "----\n",
      "Purdue\n",
      "Drives 14\n",
      "Fumbles 2\n",
      "Interceptions 0\n",
      "----\n",
      "Michigan State\n",
      "Drives 13\n",
      "Fumbles 1\n",
      "Interceptions 2\n",
      "----\n",
      "Maryland\n",
      "Drives 10\n",
      "Fumbles 1\n",
      "Interceptions 4\n",
      "----\n",
      "Wisconsin\n",
      "Drives 11\n",
      "Fumbles 0\n",
      "Interceptions 1\n",
      "----\n",
      "Iowa\n",
      "Drives 12\n",
      "Fumbles 1\n",
      "Interceptions 1\n",
      "----\n"
     ]
    }
   ],
   "source": [
    "defenses = ['Minnesota', 'Colorado', 'Northern Illinois', 'Louisiana Tech', 'Michigan', 'Illinois', 'Northwestern', 'Purdue', 'Michigan State', 'Maryland', 'Wisconsin', 'Iowa']\n",
    "\n",
    "for defense in defenses:\n",
    "    print(defense)\n",
    "    neb_drives = drive_df[(drive_df['Offense'] == 'Nebraska') & (drive_df['Defense'] == defense)]\n",
    "    print(f'Drives {len(neb_drives)}')\n",
    "    neb_drives_fumbles = neb_drives[neb_drives['Drive Result'] == 'FUMBLE']\n",
    "    print(f'Fumbles {len(neb_drives_fumbles)}')\n",
    "    neb_drives_interceptions = neb_drives[neb_drives['Drive Result'] == 'INT']\n",
    "    print(f'Interceptions {len(neb_drives_interceptions)}')\n",
    "    print('----')"
   ]
  },
  {
   "cell_type": "code",
   "execution_count": 19,
   "id": "4b5e5885-e679-4a00-9625-5e5bda8aed26",
   "metadata": {},
   "outputs": [
    {
     "name": "stdout",
     "output_type": "stream",
     "text": [
      "['PUNT', 'PUNT', 'FUMBLE', 'TD', 'PUNT', 'PUNT', 'FG', 'PUNT', 'PUNT', 'MISSED FG', 'PUNT', 'INT']\n"
     ]
    }
   ],
   "source": [
    "print(drive_results_by_game['Iowa'])"
   ]
  },
  {
   "cell_type": "code",
   "execution_count": 20,
   "id": "3da61138-dca7-40ec-9f9e-f1769e68bc77",
   "metadata": {},
   "outputs": [
    {
     "name": "stdout",
     "output_type": "stream",
     "text": [
      "['PUNT', 'FUMBLE', 'PUNT', 'FUMBLE', 'TD', 'PUNT', 'PUNT', 'FG', 'PUNT', 'PUNT', 'MISSED FG', 'PUNT', 'INT']\n"
     ]
    }
   ],
   "source": [
    "# Add the special teams fumble into Iowa game\n",
    "iowa_drives = drive_results_by_game['Iowa']\n",
    "iowa_drives.insert(1, 'FUMBLE')\n",
    "print(iowa_drives)"
   ]
  },
  {
   "cell_type": "code",
   "execution_count": 21,
   "id": "80beaa66-c3d1-442e-8c2b-9f4511bb30f6",
   "metadata": {},
   "outputs": [],
   "source": [
    "drive_results_by_game['Iowa'] = iowa_drives"
   ]
  },
  {
   "cell_type": "code",
   "execution_count": 22,
   "id": "80aec5f1-d47d-4ef7-81d1-9ba4944583c9",
   "metadata": {},
   "outputs": [
    {
     "name": "stdout",
     "output_type": "stream",
     "text": [
      "['PUNT', 'PUNT', 'TD', 'TD', 'PUNT', 'END OF HALF', 'FUMBLE', 'PUNT', 'PUNT', 'FG', 'FUMBLE', 'FUMBLE RETURN TD', 'TD', 'END OF GAME']\n"
     ]
    }
   ],
   "source": [
    "print(drive_results_by_game['Purdue'])"
   ]
  },
  {
   "cell_type": "code",
   "execution_count": 24,
   "id": "95de4d4e-dbeb-417e-805d-f70fdbc2167b",
   "metadata": {},
   "outputs": [
    {
     "name": "stdout",
     "output_type": "stream",
     "text": [
      "['FUMBLE', 'PUNT', 'PUNT', 'TD', 'TD', 'PUNT', 'END OF HALF', 'FUMBLE', 'PUNT', 'PUNT', 'FG', 'FUMBLE', 'FUMBLE RETURN TD', 'TD', 'END OF GAME']\n"
     ]
    }
   ],
   "source": [
    "# Add the fumble on the first kickoff of the Purdue game\n",
    "purdue_drives = drive_results_by_game['Purdue']\n",
    "purdue_drives.insert(0, 'FUMBLE')\n",
    "print(purdue_drives)"
   ]
  },
  {
   "cell_type": "code",
   "execution_count": 25,
   "id": "04adc700-ccff-4462-a215-d8d1a06c99c1",
   "metadata": {},
   "outputs": [],
   "source": [
    "drive_results_by_game['Purdue'] = purdue_drives"
   ]
  },
  {
   "cell_type": "code",
   "execution_count": 26,
   "id": "02595e09-e33b-4a19-8432-39d8cee171c2",
   "metadata": {},
   "outputs": [
    {
     "name": "stdout",
     "output_type": "stream",
     "text": [
      "{'Minnesota': ['PUNT', 'INT', 'INT', 'TD', 'PUNT', 'FG', 'PUNT', 'FUMBLE', 'INT'], 'Colorado': ['FUMBLE', 'PUNT', 'PUNT', 'MISSED FG', 'FUMBLE', 'INT', 'PUNT', 'TD', 'PUNT', 'FUMBLE', 'DOWNS', 'DOWNS', 'TD'], 'Northern Illinois': ['TD', 'FUMBLE', 'PUNT', 'PUNT', 'PUNT', 'TD', 'PUNT', 'PUNT', 'PUNT', 'TD', 'TD', 'TD', 'END OF GAME'], 'Louisiana Tech': ['PUNT', 'PUNT', 'TD', 'PUNT', 'MISSED FG', 'TD', 'PUNT', 'TD', 'TD', 'PUNT', 'PUNT', 'END OF GAME'], 'Michigan': ['INT', 'DOWNS', 'PUNT', 'PUNT', 'END OF HALF', 'MISSED FG', 'PUNT', 'DOWNS', 'TD', 'END OF GAME'], 'Illinois': ['FG', 'PUNT', 'TD', 'TD', 'PUNT', 'PUNT', 'END OF HALF', 'PUNT', 'FG', 'MISSED FG', 'FUMBLE', 'INT', 'FUMBLE', 'END OF GAME'], 'Northwestern': ['INT', 'PUNT', 'INT', 'FG', 'PUNT', 'TD', 'PUNT', 'PUNT', 'PUNT', 'TD', 'PUNT', 'PUNT', 'END OF GAME'], 'Purdue': ['FUMBLE', 'PUNT', 'PUNT', 'TD', 'TD', 'PUNT', 'END OF HALF', 'FUMBLE', 'PUNT', 'PUNT', 'FG', 'FUMBLE', 'FUMBLE RETURN TD', 'TD', 'END OF GAME'], 'Michigan State': ['PUNT', 'INT', 'TD', 'PUNT', 'FG', 'PUNT', 'PUNT', 'PUNT', 'PUNT', 'INT', 'TD', 'FUMBLE', 'END OF GAME'], 'Maryland': ['INT', 'PUNT', 'DOWNS', 'INT', 'PUNT', 'TD', 'FG', 'FUMBLE', 'INT', 'INT'], 'Wisconsin': ['TD', 'TD', 'DOWNS', 'PUNT', 'MISSED FG', 'PUNT', 'PUNT', 'PUNT', 'PUNT', 'FG', 'INT'], 'Iowa': ['PUNT', 'FUMBLE', 'PUNT', 'FUMBLE', 'TD', 'PUNT', 'PUNT', 'FG', 'PUNT', 'PUNT', 'MISSED FG', 'PUNT', 'INT']}\n"
     ]
    }
   ],
   "source": [
    "print(drive_results_by_game)"
   ]
  },
  {
   "cell_type": "code",
   "execution_count": 27,
   "id": "3251fbcd-cc4f-4830-a225-e36d4a747f45",
   "metadata": {},
   "outputs": [
    {
     "name": "stdout",
     "output_type": "stream",
     "text": [
      "146\n"
     ]
    }
   ],
   "source": [
    "updated_drives = [item for sublist in drive_results_by_game.values() for item in sublist]\n",
    "print(len(updated_drives))"
   ]
  },
  {
   "cell_type": "code",
   "execution_count": 28,
   "id": "8d6e6981-5e21-4de4-995e-ffcaaf4a8503",
   "metadata": {},
   "outputs": [
    {
     "name": "stdout",
     "output_type": "stream",
     "text": [
      "['PUNT', 'INT', 'INT', 'TD', 'PUNT', 'FG', 'PUNT', 'FUMBLE', 'INT', 'FUMBLE', 'PUNT', 'PUNT', 'MISSED FG', 'FUMBLE', 'INT', 'PUNT', 'TD', 'PUNT', 'FUMBLE', 'DOWNS', 'DOWNS', 'TD', 'TD', 'FUMBLE', 'PUNT', 'PUNT', 'PUNT', 'TD', 'PUNT', 'PUNT', 'PUNT', 'TD', 'TD', 'TD', 'END OF GAME', 'PUNT', 'PUNT', 'TD', 'PUNT', 'MISSED FG', 'TD', 'PUNT', 'TD', 'TD', 'PUNT', 'PUNT', 'END OF GAME', 'INT', 'DOWNS', 'PUNT', 'PUNT', 'END OF HALF', 'MISSED FG', 'PUNT', 'DOWNS', 'TD', 'END OF GAME', 'FG', 'PUNT', 'TD', 'TD', 'PUNT', 'PUNT', 'END OF HALF', 'PUNT', 'FG', 'MISSED FG', 'FUMBLE', 'INT', 'FUMBLE', 'END OF GAME', 'INT', 'PUNT', 'INT', 'FG', 'PUNT', 'TD', 'PUNT', 'PUNT', 'PUNT', 'TD', 'PUNT', 'PUNT', 'END OF GAME', 'FUMBLE', 'PUNT', 'PUNT', 'TD', 'TD', 'PUNT', 'END OF HALF', 'FUMBLE', 'PUNT', 'PUNT', 'FG', 'FUMBLE', 'FUMBLE RETURN TD', 'TD', 'END OF GAME', 'PUNT', 'INT', 'TD', 'PUNT', 'FG', 'PUNT', 'PUNT', 'PUNT', 'PUNT', 'INT', 'TD', 'FUMBLE', 'END OF GAME', 'INT', 'PUNT', 'DOWNS', 'INT', 'PUNT', 'TD', 'FG', 'FUMBLE', 'INT', 'INT', 'TD', 'TD', 'DOWNS', 'PUNT', 'MISSED FG', 'PUNT', 'PUNT', 'PUNT', 'PUNT', 'FG', 'INT', 'PUNT', 'FUMBLE', 'PUNT', 'FUMBLE', 'TD', 'PUNT', 'PUNT', 'FG', 'PUNT', 'PUNT', 'MISSED FG', 'PUNT', 'INT']\n"
     ]
    }
   ],
   "source": [
    "print(updated_drives)"
   ]
  },
  {
   "cell_type": "code",
   "execution_count": null,
   "id": "b2578e61-a8a3-440f-a313-d02e849f73f7",
   "metadata": {},
   "outputs": [],
   "source": []
  }
 ],
 "metadata": {
  "kernelspec": {
   "display_name": "Python 3 (ipykernel)",
   "language": "python",
   "name": "python3"
  },
  "language_info": {
   "codemirror_mode": {
    "name": "ipython",
    "version": 3
   },
   "file_extension": ".py",
   "mimetype": "text/x-python",
   "name": "python",
   "nbconvert_exporter": "python",
   "pygments_lexer": "ipython3",
   "version": "3.12.3"
  }
 },
 "nbformat": 4,
 "nbformat_minor": 5
}
