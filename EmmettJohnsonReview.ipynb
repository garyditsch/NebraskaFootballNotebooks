{
 "cells": [
  {
   "cell_type": "code",
   "execution_count": 1,
   "id": "1cc53ea5-6777-4238-9690-f44a8b173836",
   "metadata": {},
   "outputs": [],
   "source": [
    "import os\n",
    "import sqlite3\n",
    "import pandas as pd"
   ]
  },
  {
   "cell_type": "code",
   "execution_count": 2,
   "id": "683e0f2d-66fe-42ba-bc0a-1ade85166cd4",
   "metadata": {},
   "outputs": [],
   "source": [
    "# Set folder to use\n",
    "folder_path = '../2023_CFB_Data_Play/' "
   ]
  },
  {
   "cell_type": "code",
   "execution_count": 3,
   "id": "41153dc1-2561-4c77-886e-566c23522d0f",
   "metadata": {},
   "outputs": [],
   "source": [
    "# file count\n",
    "file_count = 0\n",
    "\n",
    "# Dictionary for dataframes from csv files\n",
    "dataframe_dictionary = {}\n",
    "\n",
    "# Loop through folder of files, if csv\n",
    "for file_name in os.listdir(folder_path):\n",
    "    # print(file_name)\n",
    "    if file_name.endswith('.csv'):\n",
    "        file_count = file_count + 1\n",
    "        file_path = os.path.join(folder_path, file_name)\n",
    "        dataframe_dictionary[file_count] = file_path\n",
    "    else:\n",
    "        print(f\"Not a csv: {file_path}\")\n",
    "\n",
    "# print(dataframe_dictionary)"
   ]
  },
  {
   "cell_type": "code",
   "execution_count": 4,
   "id": "ea6d4243-9a94-4417-8e5f-9f29fa1f87c8",
   "metadata": {},
   "outputs": [
    {
     "name": "stdout",
     "output_type": "stream",
     "text": [
      "{1: '../2023_CFB_Data_Play/MichState_2023.csv', 2: '../2023_CFB_Data_Play/Illinois_2023.csv', 3: '../2023_CFB_Data_Play/Maryland_2023.csv', 4: '../2023_CFB_Data_Play/Northwestern_2023.csv', 5: '../2023_CFB_Data_Play/Purdue_2023.csv', 6: '../2023_CFB_Data_Play/LaTech_2023.csv', 7: '../2023_CFB_Data_Play/Colorado_2023.csv', 8: '../2023_CFB_Data_Play/Northern_Illinois_2023.csv', 9: '../2023_CFB_Data_Play/Minnesota_2023.csv', 10: '../2023_CFB_Data_Play/Wisconsin_2023.csv', 11: '../2023_CFB_Data_Play/Iowa_2023.csv', 12: '../2023_CFB_Data_Play/Michigan_2023.csv'}\n"
     ]
    }
   ],
   "source": [
    "print(dataframe_dictionary)"
   ]
  },
  {
   "cell_type": "code",
   "execution_count": 5,
   "id": "b1012fb9-6815-4804-ab33-11e4c060881e",
   "metadata": {},
   "outputs": [],
   "source": [
    "# create list to hold dataframes as read in via csv parser\n",
    "dataframes = []\n",
    "\n",
    "# loop through csv files, read and add to list (check for date format)\n",
    "for count, file_path in dataframe_dictionary.items():\n",
    "    try:\n",
    "        df = pd.read_csv(file_path)\n",
    "        dataframes.append(df)\n",
    "    except Exception as e: \n",
    "        print(f'Can note read: {file_path}')"
   ]
  },
  {
   "cell_type": "code",
   "execution_count": 6,
   "id": "3ed5c1cb-4850-4ef1-a746-182f02f3d102",
   "metadata": {},
   "outputs": [
    {
     "name": "stdout",
     "output_type": "stream",
     "text": [
      "12\n"
     ]
    }
   ],
   "source": [
    "print(len(dataframes))"
   ]
  },
  {
   "cell_type": "code",
   "execution_count": 7,
   "id": "05033286-a541-47fb-9600-544e4d68a427",
   "metadata": {},
   "outputs": [],
   "source": [
    "# combine all the dataframes from list into one df\n",
    "combined_df = pd.concat(dataframes, ignore_index=True)"
   ]
  },
  {
   "cell_type": "code",
   "execution_count": 8,
   "id": "cf6a962d-b4a3-4638-9780-54db0bf577b0",
   "metadata": {},
   "outputs": [
    {
     "name": "stdout",
     "output_type": "stream",
     "text": [
      "1062\n"
     ]
    }
   ],
   "source": [
    "print(len(combined_df))"
   ]
  },
  {
   "cell_type": "code",
   "execution_count": 9,
   "id": "bef33557-e5e3-4e73-9630-71233e54edaf",
   "metadata": {},
   "outputs": [],
   "source": [
    "connection = sqlite3.connect('../2023_SqliteDV.db')"
   ]
  },
  {
   "cell_type": "code",
   "execution_count": 10,
   "id": "3e731de5-a570-4b97-ba8b-d3c467dd67ea",
   "metadata": {},
   "outputs": [
    {
     "data": {
      "text/plain": [
       "1062"
      ]
     },
     "execution_count": 10,
     "metadata": {},
     "output_type": "execute_result"
    }
   ],
   "source": [
    "combined_df.to_sql('plays', connection, if_exists='replace', index=False)"
   ]
  },
  {
   "cell_type": "code",
   "execution_count": 11,
   "id": "7c1cf665-6231-41da-adaa-198d9c3d2999",
   "metadata": {},
   "outputs": [],
   "source": [
    "connection.close()"
   ]
  },
  {
   "cell_type": "code",
   "execution_count": 12,
   "id": "5d45fd28-a418-403e-85b0-3ea59bf96958",
   "metadata": {},
   "outputs": [],
   "source": [
    "# Filter the DataFrame to include only Rush play types\n",
    "rush_df = combined_df[combined_df['Play Type'] == 'Rush']"
   ]
  },
  {
   "cell_type": "code",
   "execution_count": 13,
   "id": "c48120c6-ec03-46dd-adb5-221eba6df0fa",
   "metadata": {},
   "outputs": [
    {
     "name": "stdout",
     "output_type": "stream",
     "text": [
      "426\n"
     ]
    }
   ],
   "source": [
    "print(len(rush_df))"
   ]
  },
  {
   "cell_type": "code",
   "execution_count": 14,
   "id": "6745c3e7-1ecd-4629-ba81-7813e54dd717",
   "metadata": {},
   "outputs": [],
   "source": [
    "# Filter the DataFrame to include only rows with 'Emmett Johnson' in the play text column\n",
    "johnson_df = rush_df[rush_df['Play Text'].str.contains('Emmett Johnson')]\n",
    "grant_df = rush_df[rush_df['Play Text'].str.contains('Anthony Grant')]"
   ]
  },
  {
   "cell_type": "code",
   "execution_count": 15,
   "id": "cf8088c7-802c-4e7c-8629-aa1d3310ae7e",
   "metadata": {},
   "outputs": [],
   "source": [
    "johnson_total_yards = johnson_df['Yards Gained'].sum()\n",
    "grant_total_yards = grant_df['Yards Gained'].sum()"
   ]
  },
  {
   "cell_type": "code",
   "execution_count": 16,
   "id": "e057541f-3c46-449c-85b8-22dc5d5c6fb1",
   "metadata": {},
   "outputs": [
    {
     "name": "stdout",
     "output_type": "stream",
     "text": [
      "389\n",
      "406\n"
     ]
    }
   ],
   "source": [
    "print(johnson_total_yards)\n",
    "print(grant_total_yards)"
   ]
  },
  {
   "cell_type": "code",
   "execution_count": 17,
   "id": "90e08364-f484-4005-b69a-27fa13823765",
   "metadata": {},
   "outputs": [
    {
     "name": "stdout",
     "output_type": "stream",
     "text": [
      "85\n",
      "95\n"
     ]
    }
   ],
   "source": [
    "print(len(johnson_df))\n",
    "print(len(grant_df))"
   ]
  },
  {
   "cell_type": "code",
   "execution_count": 18,
   "id": "ff1b367b-b03f-40d7-bf8b-61a33371855c",
   "metadata": {},
   "outputs": [],
   "source": [
    "# Emmett Johnson had 90 attempts and 411 rushing yards in 2023 according to espn\n",
    "# Anthony Grant had 104 attempts and 413 rushing yards in 2023 according to espn\n",
    "# https://www.espn.com/college-football/stats/player/_/view/offense/stat/rushing/group/5/table/rushing/sort/rushingYards/dir/desc"
   ]
  },
  {
   "cell_type": "code",
   "execution_count": 20,
   "id": "fb4efcea-7e7d-41f8-a8ff-25654152c73e",
   "metadata": {},
   "outputs": [],
   "source": [
    "johnson_by_game = johnson_df.groupby('Defense').size()"
   ]
  },
  {
   "cell_type": "code",
   "execution_count": 21,
   "id": "80a4b798-3eb0-4faf-8872-1dd0719234b7",
   "metadata": {},
   "outputs": [
    {
     "name": "stdout",
     "output_type": "stream",
     "text": [
      "Defense\n",
      "Illinois           6\n",
      "Iowa              11\n",
      "Louisiana Tech     2\n",
      "Maryland          16\n",
      "Michigan           2\n",
      "Michigan State    12\n",
      "Northwestern      12\n",
      "Purdue            12\n",
      "Wisconsin         12\n",
      "dtype: int64\n"
     ]
    }
   ],
   "source": [
    "print(johnson_by_game)"
   ]
  },
  {
   "cell_type": "code",
   "execution_count": null,
   "id": "9d51fd96-e62c-414f-a06f-1daacd337e64",
   "metadata": {},
   "outputs": [],
   "source": [
    "# Wisconsin, Maryland, MSU, Purdue, NW and Illinois games are all short by 1 carry/play\n",
    "# Unclear as going through the play by play with Wisconsin on ESPN, it only has 12 plays but stats show 13 carries"
   ]
  },
  {
   "cell_type": "code",
   "execution_count": 22,
   "id": "863c8d78-f710-4bed-97bb-ed2bdbba57c2",
   "metadata": {},
   "outputs": [],
   "source": [
    "emmett_play = combined_df[combined_df['Play Text'].str.contains('Emmett Johnson')]"
   ]
  },
  {
   "cell_type": "code",
   "execution_count": 23,
   "id": "a71238e3-deaa-4bcd-882d-78b56557af54",
   "metadata": {},
   "outputs": [],
   "source": [
    "wisconsin_emmett = emmett_play[emmett_play['Defense'] == 'Wisconsin']"
   ]
  },
  {
   "cell_type": "code",
   "execution_count": 39,
   "id": "3349e3a4-764b-459a-880c-31d7342904f3",
   "metadata": {},
   "outputs": [
    {
     "name": "stdout",
     "output_type": "stream",
     "text": [
      "12\n"
     ]
    }
   ],
   "source": [
    "print(len(wisconsin_emmett))"
   ]
  },
  {
   "cell_type": "code",
   "execution_count": 40,
   "id": "18b99284-17fe-4c4f-aa2c-29fdc4e2ebe9",
   "metadata": {},
   "outputs": [],
   "source": [
    "wisconsin_emmett_rush = wisconsin_emmett[wisconsin_emmett['Play Type'] == 'Rush']"
   ]
  },
  {
   "cell_type": "code",
   "execution_count": 41,
   "id": "b21c9a89-4318-4669-af52-38a2cd63a9ed",
   "metadata": {},
   "outputs": [
    {
     "name": "stdout",
     "output_type": "stream",
     "text": [
      "12\n"
     ]
    }
   ],
   "source": [
    "print(len(wisconsin_emmett_rush))"
   ]
  },
  {
   "cell_type": "code",
   "execution_count": 42,
   "id": "be72e16b-d152-4dc3-88e0-3268da5b08b3",
   "metadata": {},
   "outputs": [
    {
     "name": "stdout",
     "output_type": "stream",
     "text": [
      "53\n"
     ]
    }
   ],
   "source": [
    "emmett_wis_total = wisconsin_emmett_rush['Yards Gained'].sum()\n",
    "print(emmett_wis_total)"
   ]
  },
  {
   "cell_type": "code",
   "execution_count": 43,
   "id": "3f3d3f04-e5fc-4953-b871-ed5160a846f0",
   "metadata": {},
   "outputs": [],
   "source": [
    "# The stats for Emmett according to ESPN are 13 carries and 50 yards\n",
    "# So looking for a -3 yards play "
   ]
  },
  {
   "cell_type": "code",
   "execution_count": 44,
   "id": "df1c4a0f-e551-4aa3-a104-43c577bcf28b",
   "metadata": {},
   "outputs": [],
   "source": [
    "negative_three = combined_df[combined_df['Yards Gained'] == -3]"
   ]
  },
  {
   "cell_type": "code",
   "execution_count": 45,
   "id": "c64b7a61-0ff9-40db-af03-4dda888b2edb",
   "metadata": {},
   "outputs": [],
   "source": [
    "# print(negative_three)\n",
    "# No plays for -3 yards by Emmett in the Wisconsin game?"
   ]
  },
  {
   "cell_type": "code",
   "execution_count": 31,
   "id": "6fbcc0e7-c819-43bc-a095-8c3b2c23747d",
   "metadata": {},
   "outputs": [],
   "source": [
    "maryland_emmett = emmett_play[emmett_play['Defense'] == 'Maryland']"
   ]
  },
  {
   "cell_type": "code",
   "execution_count": 32,
   "id": "cdbde6d3-723e-4d9d-9146-ab9065766528",
   "metadata": {},
   "outputs": [
    {
     "name": "stdout",
     "output_type": "stream",
     "text": [
      "20\n"
     ]
    }
   ],
   "source": [
    "print(len(maryland_emmett))"
   ]
  },
  {
   "cell_type": "code",
   "execution_count": 46,
   "id": "1bf9278b-69e8-4ed0-9f9b-3afc2d6f600e",
   "metadata": {},
   "outputs": [],
   "source": [
    "maryland_emmett_rush = maryland_emmett[maryland_emmett['Play Type'] == 'Rush']"
   ]
  },
  {
   "cell_type": "code",
   "execution_count": 60,
   "id": "68c7e171-6ce2-4f0f-b71a-f57eaf59fce5",
   "metadata": {},
   "outputs": [],
   "source": [
    "chosen_columns = ['Play Number', 'Defense', 'Yards Gained', 'Play Type', 'Play Text', 'Wallclock']"
   ]
  },
  {
   "cell_type": "code",
   "execution_count": 52,
   "id": "1e845ff0-1abd-48c3-aa45-e3d27a7e3997",
   "metadata": {},
   "outputs": [
    {
     "name": "stdout",
     "output_type": "stream",
     "text": [
      "16\n"
     ]
    }
   ],
   "source": [
    "print(len(maryland_emmett_rush))"
   ]
  },
  {
   "cell_type": "code",
   "execution_count": 53,
   "id": "ef8f0810-4a80-4afe-82a6-5f9c86fe29ff",
   "metadata": {},
   "outputs": [
    {
     "name": "stdout",
     "output_type": "stream",
     "text": [
      "89\n"
     ]
    }
   ],
   "source": [
    "emmett_maryland_total = maryland_emmett_rush['Yards Gained'].sum()\n",
    "print(emmett_maryland_total)"
   ]
  },
  {
   "cell_type": "code",
   "execution_count": 54,
   "id": "d40b2782-20eb-4c3e-b966-191e652576d1",
   "metadata": {},
   "outputs": [],
   "source": [
    "# ESPN shows 17 rushes for 84 yards\n",
    "# 1 carry less, 5 yards more?"
   ]
  },
  {
   "cell_type": "code",
   "execution_count": 64,
   "id": "5cdce202-39a0-4da4-a036-3deeeeb3ca95",
   "metadata": {},
   "outputs": [
    {
     "name": "stdout",
     "output_type": "stream",
     "text": [
      "     Play Number   Defense  Yards Gained Play Type  \\\n",
      "197            2  Maryland            10      Rush   \n",
      "201            6  Maryland             4      Rush   \n",
      "202            7  Maryland             1      Rush   \n",
      "208            2  Maryland             3      Rush   \n",
      "209            3  Maryland            10      Rush   \n",
      "215            2  Maryland             5      Rush   \n",
      "216            3  Maryland             6      Rush   \n",
      "222            9  Maryland             7      Rush   \n",
      "224           11  Maryland             1      Rush   \n",
      "241            3  Maryland             3      Rush   \n",
      "242            4  Maryland             2      Rush   \n",
      "258            1  Maryland             2      Rush   \n",
      "261            4  Maryland             2      Rush   \n",
      "262            5  Maryland             2      Rush   \n",
      "265            8  Maryland            29      Rush   \n",
      "268           11  Maryland             2      Rush   \n",
      "\n",
      "                                             Play Text  \\\n",
      "197  Emmett Johnson run for 10 yds to the NEB 23 fo...   \n",
      "201         Emmett Johnson run for 4 yds to the NEB 37   \n",
      "202          Emmett Johnson run for 1 yd to the NEB 38   \n",
      "208          Emmett Johnson run for 3 yds to the NEB 9   \n",
      "209  Emmett Johnson run for 10 yds to the NEB 19 fo...   \n",
      "215         Emmett Johnson run for 5 yds to the NEB 28   \n",
      "216  Emmett Johnson run for 6 yds to the NEB 34 for...   \n",
      "222  Emmett Johnson run for 7 yds to the MD 35 for ...   \n",
      "224           Emmett Johnson run for 1 yd to the MD 33   \n",
      "241  Emmett Johnson run for 3 yds to the MD 4 for a...   \n",
      "242           Emmett Johnson run for 2 yds to the MD 2   \n",
      "258          Emmett Johnson run for 2 yds to the NEB 5   \n",
      "261         Emmett Johnson run for 2 yds to the NEB 20   \n",
      "262         Emmett Johnson run for 2 yds to the NEB 22   \n",
      "265  Emmett Johnson run for 29 yds to the MD 16 for...   \n",
      "268           Emmett Johnson run for 2 yds to the MD 7   \n",
      "\n",
      "                    Wallclock  \n",
      "197  2023-11-11T17:15:25.000Z  \n",
      "201  2023-11-11T17:22:17.000Z  \n",
      "202  2023-11-11T17:22:17.000Z  \n",
      "208  2023-11-11T17:44:24.000Z  \n",
      "209  2023-11-11T17:48:23.000Z  \n",
      "215  2023-11-11T17:57:45.000Z  \n",
      "216  2023-11-11T18:02:03.000Z  \n",
      "222  2023-11-11T18:07:31.000Z  \n",
      "224  2023-11-11T18:07:31.000Z  \n",
      "241  2023-11-11T18:57:15.000Z  \n",
      "242  2023-11-11T18:57:15.000Z  \n",
      "258  2023-11-11T19:55:28.000Z  \n",
      "261  2023-11-11T19:58:43.000Z  \n",
      "262  2023-11-11T19:59:20.000Z  \n",
      "265  2023-11-11T19:59:20.000Z  \n",
      "268  2023-11-11T19:59:20.000Z  \n"
     ]
    }
   ],
   "source": [
    "print(maryland_emmett_rush[chosen_columns].sort_values(by='Wallclock'))"
   ]
  },
  {
   "cell_type": "code",
   "execution_count": null,
   "id": "c8e619e4-afd9-4990-89f3-53b54d1ecb6d",
   "metadata": {},
   "outputs": [],
   "source": [
    "# Unclear as going through the play by play with Maryland on ESPN, it only has 16 plays but stats show 17 carries\n",
    "# Same issue as noticed in Wisconsn game. Some play type is counting as a rush that is resulting in negative yards\n",
    "# Not finding those plays yet."
   ]
  }
 ],
 "metadata": {
  "kernelspec": {
   "display_name": "Python 3 (ipykernel)",
   "language": "python",
   "name": "python3"
  },
  "language_info": {
   "codemirror_mode": {
    "name": "ipython",
    "version": 3
   },
   "file_extension": ".py",
   "mimetype": "text/x-python",
   "name": "python",
   "nbconvert_exporter": "python",
   "pygments_lexer": "ipython3",
   "version": "3.12.3"
  }
 },
 "nbformat": 4,
 "nbformat_minor": 5
}
