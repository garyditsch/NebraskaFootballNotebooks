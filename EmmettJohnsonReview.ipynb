{
 "cells": [
  {
   "cell_type": "code",
   "execution_count": 1,
   "id": "1cc53ea5-6777-4238-9690-f44a8b173836",
   "metadata": {},
   "outputs": [],
   "source": [
    "import os\n",
    "import sqlite3\n",
    "import pandas as pd"
   ]
  },
  {
   "cell_type": "code",
   "execution_count": 2,
   "id": "683e0f2d-66fe-42ba-bc0a-1ade85166cd4",
   "metadata": {},
   "outputs": [],
   "source": [
    "## Reading data, creating a sqlite db and creating initial dataframe with all games\n",
    "\n",
    "# Set folder to use\n",
    "folder_path = '../2023_CFB_Data_Play/' "
   ]
  },
  {
   "cell_type": "code",
   "execution_count": 3,
   "id": "41153dc1-2561-4c77-886e-566c23522d0f",
   "metadata": {},
   "outputs": [],
   "source": [
    "# file count\n",
    "file_count = 0\n",
    "\n",
    "# Dictionary for dataframes from csv files\n",
    "dataframe_dictionary = {}\n",
    "\n",
    "# Loop through folder of files, if csv\n",
    "for file_name in os.listdir(folder_path):\n",
    "    # print(file_name)\n",
    "    if file_name.endswith('.csv'):\n",
    "        file_count = file_count + 1\n",
    "        file_path = os.path.join(folder_path, file_name)\n",
    "        dataframe_dictionary[file_count] = file_path\n",
    "    else:\n",
    "        print(f\"Not a csv: {file_path}\")\n",
    "\n",
    "# print(dataframe_dictionary)"
   ]
  },
  {
   "cell_type": "code",
   "execution_count": 4,
   "id": "ea6d4243-9a94-4417-8e5f-9f29fa1f87c8",
   "metadata": {},
   "outputs": [
    {
     "name": "stdout",
     "output_type": "stream",
     "text": [
      "{1: '../2023_CFB_Data_Play/MichState_2023.csv', 2: '../2023_CFB_Data_Play/Illinois_2023.csv', 3: '../2023_CFB_Data_Play/Maryland_2023.csv', 4: '../2023_CFB_Data_Play/Northwestern_2023.csv', 5: '../2023_CFB_Data_Play/Purdue_2023.csv', 6: '../2023_CFB_Data_Play/LaTech_2023.csv', 7: '../2023_CFB_Data_Play/Colorado_2023.csv', 8: '../2023_CFB_Data_Play/Northern_Illinois_2023.csv', 9: '../2023_CFB_Data_Play/Minnesota_2023.csv', 10: '../2023_CFB_Data_Play/Wisconsin_2023.csv', 11: '../2023_CFB_Data_Play/Iowa_2023.csv', 12: '../2023_CFB_Data_Play/Michigan_2023.csv'}\n"
     ]
    }
   ],
   "source": [
    "print(dataframe_dictionary)"
   ]
  },
  {
   "cell_type": "code",
   "execution_count": 5,
   "id": "b1012fb9-6815-4804-ab33-11e4c060881e",
   "metadata": {},
   "outputs": [],
   "source": [
    "# create list to hold dataframes as read in via csv parser\n",
    "dataframes = []\n",
    "\n",
    "# loop through csv files, read and add to list (check for date format)\n",
    "for count, file_path in dataframe_dictionary.items():\n",
    "    try:\n",
    "        df = pd.read_csv(file_path)\n",
    "        dataframes.append(df)\n",
    "    except Exception as e: \n",
    "        print(f'Can note read: {file_path}')"
   ]
  },
  {
   "cell_type": "code",
   "execution_count": 6,
   "id": "3ed5c1cb-4850-4ef1-a746-182f02f3d102",
   "metadata": {},
   "outputs": [
    {
     "name": "stdout",
     "output_type": "stream",
     "text": [
      "12\n"
     ]
    }
   ],
   "source": [
    "# Length should be the same and number of games / files\n",
    "print(len(dataframes))"
   ]
  },
  {
   "cell_type": "code",
   "execution_count": 7,
   "id": "05033286-a541-47fb-9600-544e4d68a427",
   "metadata": {},
   "outputs": [],
   "source": [
    "# combine all the dataframes from list into one df\n",
    "combined_df = pd.concat(dataframes, ignore_index=True)"
   ]
  },
  {
   "cell_type": "code",
   "execution_count": 8,
   "id": "cf6a962d-b4a3-4638-9780-54db0bf577b0",
   "metadata": {},
   "outputs": [
    {
     "name": "stdout",
     "output_type": "stream",
     "text": [
      "1062\n"
     ]
    }
   ],
   "source": [
    "# The total number of plays for season and season dataframe\n",
    "print(len(combined_df))"
   ]
  },
  {
   "cell_type": "code",
   "execution_count": 9,
   "id": "bef33557-e5e3-4e73-9630-71233e54edaf",
   "metadata": {},
   "outputs": [],
   "source": [
    "## Use the dataframe and create a sqlite db\n",
    "\n",
    "connection = sqlite3.connect('../2023_SqliteDV.db')"
   ]
  },
  {
   "cell_type": "code",
   "execution_count": 10,
   "id": "3e731de5-a570-4b97-ba8b-d3c467dd67ea",
   "metadata": {},
   "outputs": [
    {
     "data": {
      "text/plain": [
       "1062"
      ]
     },
     "execution_count": 10,
     "metadata": {},
     "output_type": "execute_result"
    }
   ],
   "source": [
    "combined_df.to_sql('plays', connection, if_exists='replace', index=False)"
   ]
  },
  {
   "cell_type": "code",
   "execution_count": 11,
   "id": "7c1cf665-6231-41da-adaa-198d9c3d2999",
   "metadata": {},
   "outputs": [],
   "source": [
    "connection.close()"
   ]
  },
  {
   "cell_type": "code",
   "execution_count": 76,
   "id": "5d45fd28-a418-403e-85b0-3ea59bf96958",
   "metadata": {},
   "outputs": [],
   "source": [
    "## Start some analysis\n",
    "\n",
    "# Question 1: What were the distribution of yards by rushing attempt for Emmett Johnson\n",
    "\n",
    "# List of play types to include in rushing dataframe\n",
    "rushing_types = ['Rush', 'Rushing Touchdown', 'Sack', 'Fumble Recovery (Opponent)']\n",
    "\n",
    "# Filter the DataFrame to include only Rush play types\n",
    "rush_df = combined_df[combined_df['Play Type'].isin(rushing_types)]"
   ]
  },
  {
   "cell_type": "code",
   "execution_count": 77,
   "id": "c48120c6-ec03-46dd-adb5-221eba6df0fa",
   "metadata": {},
   "outputs": [
    {
     "name": "stdout",
     "output_type": "stream",
     "text": [
      "482\n"
     ]
    }
   ],
   "source": [
    "print(len(rush_df))"
   ]
  },
  {
   "cell_type": "code",
   "execution_count": 78,
   "id": "6745c3e7-1ecd-4629-ba81-7813e54dd717",
   "metadata": {},
   "outputs": [],
   "source": [
    "# Filter the DataFrame to include only rows with 'Emmett Johnson' in the play text column\n",
    "johnson_df = rush_df[rush_df['Play Text'].str.contains('Emmett Johnson')]\n",
    "\n",
    "# Adding 'Anthony Grant' as a check\n",
    "grant_df = rush_df[rush_df['Play Text'].str.contains('Anthony Grant')]"
   ]
  },
  {
   "cell_type": "code",
   "execution_count": 79,
   "id": "cf8088c7-802c-4e7c-8629-aa1d3310ae7e",
   "metadata": {},
   "outputs": [],
   "source": [
    "johnson_total_yards = johnson_df['Yards Gained'].sum()\n",
    "grant_total_yards = grant_df['Yards Gained'].sum()"
   ]
  },
  {
   "cell_type": "code",
   "execution_count": 80,
   "id": "e057541f-3c46-449c-85b8-22dc5d5c6fb1",
   "metadata": {},
   "outputs": [
    {
     "name": "stdout",
     "output_type": "stream",
     "text": [
      "421\n",
      "428\n"
     ]
    }
   ],
   "source": [
    "print(johnson_total_yards)\n",
    "print(grant_total_yards)"
   ]
  },
  {
   "cell_type": "code",
   "execution_count": 81,
   "id": "90e08364-f484-4005-b69a-27fa13823765",
   "metadata": {},
   "outputs": [
    {
     "name": "stdout",
     "output_type": "stream",
     "text": [
      "88\n",
      "100\n"
     ]
    }
   ],
   "source": [
    "print(len(johnson_df))\n",
    "print(len(grant_df))"
   ]
  },
  {
   "cell_type": "code",
   "execution_count": 18,
   "id": "ff1b367b-b03f-40d7-bf8b-61a33371855c",
   "metadata": {},
   "outputs": [],
   "source": [
    "# Emmett Johnson had 90 attempts and 411 rushing yards in 2023 according to espn\n",
    "# Anthony Grant had 104 attempts and 413 rushing yards in 2023 according to espn\n",
    "# https://www.espn.com/college-football/stats/player/_/view/offense/stat/rushing/group/5/table/rushing/sort/rushingYards/dir/desc"
   ]
  },
  {
   "cell_type": "code",
   "execution_count": 84,
   "id": "fb4efcea-7e7d-41f8-a8ff-25654152c73e",
   "metadata": {},
   "outputs": [],
   "source": [
    "johnson_by_game = johnson_df.groupby('Defense').size()"
   ]
  },
  {
   "cell_type": "code",
   "execution_count": 85,
   "id": "80a4b798-3eb0-4faf-8872-1dd0719234b7",
   "metadata": {},
   "outputs": [
    {
     "name": "stdout",
     "output_type": "stream",
     "text": [
      "Defense\n",
      "Illinois           7\n",
      "Iowa              11\n",
      "Louisiana Tech     2\n",
      "Maryland          16\n",
      "Michigan           2\n",
      "Michigan State    13\n",
      "Northwestern      12\n",
      "Purdue            13\n",
      "Wisconsin         12\n",
      "dtype: int64\n"
     ]
    }
   ],
   "source": [
    "print(johnson_by_game)"
   ]
  },
  {
   "cell_type": "code",
   "execution_count": 86,
   "id": "9d51fd96-e62c-414f-a06f-1daacd337e64",
   "metadata": {},
   "outputs": [],
   "source": [
    "# Wisconsin and Maryland games are all short by 1 carry/play\n",
    "# Unclear as going through the play by play with Wisconsin on ESPN, it only has 12 plays but stats show 13 carries"
   ]
  },
  {
   "cell_type": "code",
   "execution_count": 87,
   "id": "863c8d78-f710-4bed-97bb-ed2bdbba57c2",
   "metadata": {},
   "outputs": [],
   "source": [
    "emmett_play = combined_df[combined_df['Play Text'].str.contains('Emmett Johnson')]"
   ]
  },
  {
   "cell_type": "code",
   "execution_count": 88,
   "id": "a71238e3-deaa-4bcd-882d-78b56557af54",
   "metadata": {},
   "outputs": [],
   "source": [
    "wisconsin_emmett = emmett_play[emmett_play['Defense'] == 'Wisconsin']"
   ]
  },
  {
   "cell_type": "code",
   "execution_count": 89,
   "id": "3349e3a4-764b-459a-880c-31d7342904f3",
   "metadata": {},
   "outputs": [
    {
     "name": "stdout",
     "output_type": "stream",
     "text": [
      "12\n"
     ]
    }
   ],
   "source": [
    "print(len(wisconsin_emmett))"
   ]
  },
  {
   "cell_type": "code",
   "execution_count": 90,
   "id": "18b99284-17fe-4c4f-aa2c-29fdc4e2ebe9",
   "metadata": {},
   "outputs": [],
   "source": [
    "wisconsin_emmett_rush = wisconsin_emmett[wisconsin_emmett['Play Type'] == 'Rush']"
   ]
  },
  {
   "cell_type": "code",
   "execution_count": 91,
   "id": "b21c9a89-4318-4669-af52-38a2cd63a9ed",
   "metadata": {},
   "outputs": [
    {
     "name": "stdout",
     "output_type": "stream",
     "text": [
      "12\n"
     ]
    }
   ],
   "source": [
    "print(len(wisconsin_emmett_rush))"
   ]
  },
  {
   "cell_type": "code",
   "execution_count": 92,
   "id": "be72e16b-d152-4dc3-88e0-3268da5b08b3",
   "metadata": {},
   "outputs": [
    {
     "name": "stdout",
     "output_type": "stream",
     "text": [
      "53\n"
     ]
    }
   ],
   "source": [
    "emmett_wis_total = wisconsin_emmett_rush['Yards Gained'].sum()\n",
    "print(emmett_wis_total)"
   ]
  },
  {
   "cell_type": "code",
   "execution_count": 93,
   "id": "3f3d3f04-e5fc-4953-b871-ed5160a846f0",
   "metadata": {},
   "outputs": [],
   "source": [
    "# The stats for Emmett according to ESPN are 13 carries and 50 yards\n",
    "# So looking for a -3 yards play "
   ]
  },
  {
   "cell_type": "code",
   "execution_count": 94,
   "id": "df1c4a0f-e551-4aa3-a104-43c577bcf28b",
   "metadata": {},
   "outputs": [],
   "source": [
    "negative_three = combined_df[combined_df['Yards Gained'] == -3]"
   ]
  },
  {
   "cell_type": "code",
   "execution_count": 95,
   "id": "c64b7a61-0ff9-40db-af03-4dda888b2edb",
   "metadata": {},
   "outputs": [],
   "source": [
    "# print(negative_three)\n",
    "# No plays for -3 yards by Emmett in the Wisconsin game?"
   ]
  },
  {
   "cell_type": "code",
   "execution_count": 96,
   "id": "6fbcc0e7-c819-43bc-a095-8c3b2c23747d",
   "metadata": {},
   "outputs": [],
   "source": [
    "maryland_emmett = emmett_play[emmett_play['Defense'] == 'Maryland']"
   ]
  },
  {
   "cell_type": "code",
   "execution_count": 97,
   "id": "cdbde6d3-723e-4d9d-9146-ab9065766528",
   "metadata": {},
   "outputs": [
    {
     "name": "stdout",
     "output_type": "stream",
     "text": [
      "20\n"
     ]
    }
   ],
   "source": [
    "print(len(maryland_emmett))"
   ]
  },
  {
   "cell_type": "code",
   "execution_count": 98,
   "id": "1bf9278b-69e8-4ed0-9f9b-3afc2d6f600e",
   "metadata": {},
   "outputs": [],
   "source": [
    "maryland_emmett_rush = maryland_emmett[maryland_emmett['Play Type'].isin(rushing_types)]"
   ]
  },
  {
   "cell_type": "code",
   "execution_count": 99,
   "id": "68c7e171-6ce2-4f0f-b71a-f57eaf59fce5",
   "metadata": {},
   "outputs": [],
   "source": [
    "chosen_columns = ['Play Number', 'Defense', 'Yards Gained', 'Play Type', 'Play Text', 'Wallclock']"
   ]
  },
  {
   "cell_type": "code",
   "execution_count": 100,
   "id": "1e845ff0-1abd-48c3-aa45-e3d27a7e3997",
   "metadata": {},
   "outputs": [
    {
     "name": "stdout",
     "output_type": "stream",
     "text": [
      "16\n"
     ]
    }
   ],
   "source": [
    "print(len(maryland_emmett_rush))"
   ]
  },
  {
   "cell_type": "code",
   "execution_count": 101,
   "id": "ef8f0810-4a80-4afe-82a6-5f9c86fe29ff",
   "metadata": {},
   "outputs": [
    {
     "name": "stdout",
     "output_type": "stream",
     "text": [
      "89\n"
     ]
    }
   ],
   "source": [
    "emmett_maryland_total = maryland_emmett_rush['Yards Gained'].sum()\n",
    "print(emmett_maryland_total)"
   ]
  },
  {
   "cell_type": "code",
   "execution_count": 102,
   "id": "d40b2782-20eb-4c3e-b966-191e652576d1",
   "metadata": {},
   "outputs": [],
   "source": [
    "# ESPN shows 17 rushes for 84 yards\n",
    "# 1 carry less, 5 yards more?"
   ]
  },
  {
   "cell_type": "code",
   "execution_count": 103,
   "id": "5cdce202-39a0-4da4-a036-3deeeeb3ca95",
   "metadata": {},
   "outputs": [
    {
     "name": "stdout",
     "output_type": "stream",
     "text": [
      "     Play Number   Defense  Yards Gained Play Type  \\\n",
      "197            2  Maryland            10      Rush   \n",
      "201            6  Maryland             4      Rush   \n",
      "202            7  Maryland             1      Rush   \n",
      "208            2  Maryland             3      Rush   \n",
      "209            3  Maryland            10      Rush   \n",
      "215            2  Maryland             5      Rush   \n",
      "216            3  Maryland             6      Rush   \n",
      "222            9  Maryland             7      Rush   \n",
      "224           11  Maryland             1      Rush   \n",
      "241            3  Maryland             3      Rush   \n",
      "242            4  Maryland             2      Rush   \n",
      "258            1  Maryland             2      Rush   \n",
      "261            4  Maryland             2      Rush   \n",
      "262            5  Maryland             2      Rush   \n",
      "265            8  Maryland            29      Rush   \n",
      "268           11  Maryland             2      Rush   \n",
      "\n",
      "                                             Play Text  \\\n",
      "197  Emmett Johnson run for 10 yds to the NEB 23 fo...   \n",
      "201         Emmett Johnson run for 4 yds to the NEB 37   \n",
      "202          Emmett Johnson run for 1 yd to the NEB 38   \n",
      "208          Emmett Johnson run for 3 yds to the NEB 9   \n",
      "209  Emmett Johnson run for 10 yds to the NEB 19 fo...   \n",
      "215         Emmett Johnson run for 5 yds to the NEB 28   \n",
      "216  Emmett Johnson run for 6 yds to the NEB 34 for...   \n",
      "222  Emmett Johnson run for 7 yds to the MD 35 for ...   \n",
      "224           Emmett Johnson run for 1 yd to the MD 33   \n",
      "241  Emmett Johnson run for 3 yds to the MD 4 for a...   \n",
      "242           Emmett Johnson run for 2 yds to the MD 2   \n",
      "258          Emmett Johnson run for 2 yds to the NEB 5   \n",
      "261         Emmett Johnson run for 2 yds to the NEB 20   \n",
      "262         Emmett Johnson run for 2 yds to the NEB 22   \n",
      "265  Emmett Johnson run for 29 yds to the MD 16 for...   \n",
      "268           Emmett Johnson run for 2 yds to the MD 7   \n",
      "\n",
      "                    Wallclock  \n",
      "197  2023-11-11T17:15:25.000Z  \n",
      "201  2023-11-11T17:22:17.000Z  \n",
      "202  2023-11-11T17:22:17.000Z  \n",
      "208  2023-11-11T17:44:24.000Z  \n",
      "209  2023-11-11T17:48:23.000Z  \n",
      "215  2023-11-11T17:57:45.000Z  \n",
      "216  2023-11-11T18:02:03.000Z  \n",
      "222  2023-11-11T18:07:31.000Z  \n",
      "224  2023-11-11T18:07:31.000Z  \n",
      "241  2023-11-11T18:57:15.000Z  \n",
      "242  2023-11-11T18:57:15.000Z  \n",
      "258  2023-11-11T19:55:28.000Z  \n",
      "261  2023-11-11T19:58:43.000Z  \n",
      "262  2023-11-11T19:59:20.000Z  \n",
      "265  2023-11-11T19:59:20.000Z  \n",
      "268  2023-11-11T19:59:20.000Z  \n"
     ]
    }
   ],
   "source": [
    "print(maryland_emmett_rush[chosen_columns].sort_values(by='Wallclock'))"
   ]
  },
  {
   "cell_type": "code",
   "execution_count": 104,
   "id": "c8e619e4-afd9-4990-89f3-53b54d1ecb6d",
   "metadata": {},
   "outputs": [],
   "source": [
    "# Unclear as going through the play by play with Maryland on ESPN, it only has 16 plays but stats show 17 carries\n",
    "# Same issue as noticed in Wisconsn game. Some play type is counting as a rush that is resulting in negative yards\n",
    "# Not finding those plays yet."
   ]
  },
  {
   "cell_type": "code",
   "execution_count": 105,
   "id": "e2b622a2-c459-45bb-9a5f-4536e3164ca3",
   "metadata": {},
   "outputs": [
    {
     "name": "stdout",
     "output_type": "stream",
     "text": [
      "46\n"
     ]
    }
   ],
   "source": [
    "# Get all rushing plays by Nebraska in Purdue game\n",
    "\n",
    "purdue_rushing = rush_df[rush_df['Defense'] == 'Purdue']\n",
    "print(len(purdue_rushing))"
   ]
  },
  {
   "cell_type": "code",
   "execution_count": 106,
   "id": "23551ead-ee58-416a-a21b-b3f84cb4fe71",
   "metadata": {},
   "outputs": [],
   "source": [
    "# Group all plays in Purdue game grouped by play type\n",
    "# game id = 401520355"
   ]
  },
  {
   "cell_type": "code",
   "execution_count": 107,
   "id": "b7d00d54-43cc-4856-a7c2-839a685fbc36",
   "metadata": {},
   "outputs": [],
   "source": [
    "purdue_game_plays = combined_df[combined_df['Game Id'] == 401520355]"
   ]
  },
  {
   "cell_type": "code",
   "execution_count": 108,
   "id": "58a3286f-8915-4c18-9d9a-dad6a4f887da",
   "metadata": {},
   "outputs": [],
   "source": [
    "grouped_plays_purdue = purdue_game_plays.groupby('Play Type').size()"
   ]
  },
  {
   "cell_type": "code",
   "execution_count": 109,
   "id": "7fb858ab-f6c4-44b7-bd0d-4fd169e34b0a",
   "metadata": {},
   "outputs": [
    {
     "name": "stdout",
     "output_type": "stream",
     "text": [
      "Play Type\n",
      "End Period                     1\n",
      "End of Game                    1\n",
      "End of Half                    1\n",
      "Field Goal Good                1\n",
      "Fumble Recovery (Opponent)     2\n",
      "Fumble Return Touchdown        1\n",
      "Kickoff                        4\n",
      "Kickoff Return (Offense)       2\n",
      "Pass Incompletion              5\n",
      "Pass Reception                 3\n",
      "Passing Touchdown              2\n",
      "Penalty                        7\n",
      "Punt                           5\n",
      "Rush                          40\n",
      "Rushing Touchdown              1\n",
      "Sack                           3\n",
      "Timeout                        7\n",
      "dtype: int64\n"
     ]
    }
   ],
   "source": [
    "print(grouped_plays_purdue)"
   ]
  },
  {
   "cell_type": "code",
   "execution_count": 110,
   "id": "fa0739e7-c3e2-4928-9e3c-1dea30d73e93",
   "metadata": {},
   "outputs": [],
   "source": [
    "neb_off_purdue = purdue_game_plays[purdue_game_plays['Defense'] == 'Purdue']"
   ]
  },
  {
   "cell_type": "code",
   "execution_count": 111,
   "id": "5ce383f9-6750-4374-bb88-40eba432b364",
   "metadata": {},
   "outputs": [
    {
     "name": "stdout",
     "output_type": "stream",
     "text": [
      "86\n"
     ]
    }
   ],
   "source": [
    "print(len(neb_off_purdue))"
   ]
  },
  {
   "cell_type": "code",
   "execution_count": 112,
   "id": "1dca550a-766e-46d6-8d77-4188269b47bd",
   "metadata": {},
   "outputs": [],
   "source": [
    "# Checking all rushing plays for Purdue game\n",
    "neb_off_purdue_rush = neb_off_purdue[neb_off_purdue['Play Type'].isin(rushing_types)]"
   ]
  },
  {
   "cell_type": "code",
   "execution_count": 113,
   "id": "7b48161e-0ecf-43b0-a424-960000f8fadb",
   "metadata": {},
   "outputs": [
    {
     "name": "stdout",
     "output_type": "stream",
     "text": [
      "46\n"
     ]
    }
   ],
   "source": [
    "print(len(neb_off_purdue_rush))"
   ]
  },
  {
   "cell_type": "code",
   "execution_count": null,
   "id": "f685a63d-1c40-48a2-8802-ae76c07a1c04",
   "metadata": {},
   "outputs": [],
   "source": [
    "# ESPN shows 48 rushes, so 2 plays off yet for the team"
   ]
  },
  {
   "cell_type": "code",
   "execution_count": 115,
   "id": "0fdf43e7-5caf-4003-954b-f7176394a0cf",
   "metadata": {},
   "outputs": [],
   "source": [
    "# Get total yards for rushing at Purdue\n",
    "neb_purdue_rush_yards = neb_off_purdue_rush['Yards Gained'].sum()"
   ]
  },
  {
   "cell_type": "code",
   "execution_count": 116,
   "id": "ba222829-f73d-4822-b681-71ec49fb99da",
   "metadata": {},
   "outputs": [
    {
     "name": "stdout",
     "output_type": "stream",
     "text": [
      "182\n"
     ]
    }
   ],
   "source": [
    "print(neb_purdue_rush_yards)"
   ]
  },
  {
   "cell_type": "code",
   "execution_count": null,
   "id": "83e78555-1a09-4e04-8709-32abceb0c296",
   "metadata": {},
   "outputs": [],
   "source": [
    "# Rush yards are 27 yards high as ESPN shows 155 total"
   ]
  },
  {
   "cell_type": "code",
   "execution_count": 118,
   "id": "0f3b9d87-cdb5-444c-bba4-1692c71584bc",
   "metadata": {},
   "outputs": [],
   "source": [
    "# Put yards gained into a list\n",
    "yards_purdue_list = list(neb_off_purdue_rush['Yards Gained'])"
   ]
  },
  {
   "cell_type": "code",
   "execution_count": 119,
   "id": "5089ea60-2d01-4ac5-8d5a-bae5117eac47",
   "metadata": {},
   "outputs": [
    {
     "name": "stdout",
     "output_type": "stream",
     "text": [
      "46\n"
     ]
    }
   ],
   "source": [
    "print(len(yards_purdue_list))"
   ]
  },
  {
   "cell_type": "code",
   "execution_count": 120,
   "id": "7450f9f5-58ac-48e0-9b36-032c1ab1e580",
   "metadata": {},
   "outputs": [
    {
     "name": "stdout",
     "output_type": "stream",
     "text": [
      "[8, -11, 5, 3, 3, 5, 2, 2, 3, 16, 6, 1, 4, 6, 0, 2, 15, 1, 6, 1, 1, 1, 8, 5, 6, 2, 0, -6, 8, 4, 2, -7, 4, 4, 2, 3, 4, 4, 8, 2, 2, 28, 2, 3, 8, 6]\n"
     ]
    }
   ],
   "source": [
    "print(yards_purdue_list)"
   ]
  },
  {
   "cell_type": "code",
   "execution_count": 121,
   "id": "ae6f5bc5-2152-4db8-9a42-5d352d3f4592",
   "metadata": {},
   "outputs": [
    {
     "name": "stdout",
     "output_type": "stream",
     "text": [
      "182\n"
     ]
    }
   ],
   "source": [
    "print(sum(yards_purdue_list))"
   ]
  },
  {
   "cell_type": "code",
   "execution_count": 114,
   "id": "a2f8881c-c2e2-45bc-a025-470df75616a6",
   "metadata": {},
   "outputs": [
    {
     "name": "stdout",
     "output_type": "stream",
     "text": [
      "     Play Number Defense  Yards Gained                   Play Type  \\\n",
      "345            2  Purdue             8                        Rush   \n",
      "347            4  Purdue           -11                        Sack   \n",
      "349            1  Purdue             5                        Rush   \n",
      "350            2  Purdue             3                        Rush   \n",
      "351            3  Purdue             3                        Rush   \n",
      "353            1  Purdue             5                        Rush   \n",
      "354            2  Purdue             2                        Rush   \n",
      "356            4  Purdue             2                        Rush   \n",
      "357            5  Purdue             3                        Rush   \n",
      "359            7  Purdue            16                        Rush   \n",
      "362           10  Purdue             1                        Rush   \n",
      "361            9  Purdue             6                        Rush   \n",
      "366           14  Purdue             4                        Rush   \n",
      "367           15  Purdue             6                        Rush   \n",
      "368           16  Purdue             0                        Rush   \n",
      "373            1  Purdue             2                        Rush   \n",
      "374            2  Purdue            15                        Rush   \n",
      "376            4  Purdue             1                        Rush   \n",
      "377            5  Purdue             6                        Rush   \n",
      "383            4  Purdue             1                        Rush   \n",
      "385            1  Purdue             1  Fumble Recovery (Opponent)   \n",
      "389            3  Purdue             8                        Rush   \n",
      "388            2  Purdue             1                        Rush   \n",
      "391            1  Purdue             5                        Rush   \n",
      "392            2  Purdue             6                        Rush   \n",
      "394            4  Purdue             2                        Rush   \n",
      "395            5  Purdue             0                        Rush   \n",
      "397            7  Purdue            -6                        Sack   \n",
      "399            1  Purdue             8                        Rush   \n",
      "400            2  Purdue             4                        Rush   \n",
      "401            3  Purdue             2                        Rush   \n",
      "407            1  Purdue            -7                        Sack   \n",
      "408            2  Purdue             4  Fumble Recovery (Opponent)   \n",
      "411            4  Purdue             3                        Rush   \n",
      "409            2  Purdue             4                        Rush   \n",
      "410            3  Purdue             2                        Rush   \n",
      "415            2  Purdue             4                        Rush   \n",
      "416            3  Purdue             4                        Rush   \n",
      "417            4  Purdue             8                        Rush   \n",
      "418            5  Purdue             2                        Rush   \n",
      "420            7  Purdue             2                        Rush   \n",
      "422            9  Purdue            28           Rushing Touchdown   \n",
      "424            1  Purdue             2                        Rush   \n",
      "428            5  Purdue             6                        Rush   \n",
      "426            3  Purdue             3                        Rush   \n",
      "427            4  Purdue             8                        Rush   \n",
      "\n",
      "                                             Play Text  \\\n",
      "345      Heinrich Haarberg run for 8 yds to the NEB 31   \n",
      "347  Heinrich Haarberg sacked by Kydran Jenkins for...   \n",
      "349          Joshua Fleeks run for 5 yds to the PUR 49   \n",
      "350          Anthony Grant run for 3 yds to the NEB 48   \n",
      "351      Heinrich Haarberg run for 3 yds to the PUR 49   \n",
      "353         Emmett Johnson run for 5 yds to the NEB 18   \n",
      "354         Emmett Johnson run for 2 yds to the NEB 20   \n",
      "356          Joshua Fleeks run for 2 yds to the NEB 41   \n",
      "357      Heinrich Haarberg run for 3 yds to the NEB 44   \n",
      "359  Joshua Fleeks run for 16 yds to the PUR 24 for...   \n",
      "362       Heinrich Haarberg run for 1 yd to the PUR 19   \n",
      "361         Emmett Johnson run for 6 yds to the PUR 18   \n",
      "366          Emmett Johnson run for 4 yds to the PUR 7   \n",
      "367  Heinrich Haarberg run for 6 yds to the PUR 1 f...   \n",
      "368     Heinrich Haarberg run for no gain to the PUR 1   \n",
      "373         Emmett Johnson run for 2 yds to the NEB 16   \n",
      "374  Heinrich Haarberg run for 15 yds to the NEB 31...   \n",
      "376            Jaylen Lloyd run for 1 yd to the NEB 47   \n",
      "377      Heinrich Haarberg run for 6 yds to the NEB 41   \n",
      "383          Emmett Johnson run for 1 yd to the NEB 32   \n",
      "385  Heinrich Haarberg run for 1 yd to the NEB 13 H...   \n",
      "389         Emmett Johnson run for 8 yds to the NEB 19   \n",
      "388       Heinrich Haarberg run for 1 yd to the NEB 11   \n",
      "391          Anthony Grant run for 5 yds to the NEB 25   \n",
      "392  Anthony Grant run for 6 yds to the NEB 31 for ...   \n",
      "394         Janiran Bonner run for 2 yds to the NEB 48   \n",
      "395    Heinrich Haarberg run for no gain to the NEB 48   \n",
      "397  Heinrich Haarberg sacked for a loss of 6 yards...   \n",
      "399      Heinrich Haarberg run for 8 yds to the PUR 42   \n",
      "400  Anthony Grant run for 4 yds to the PUR 38 for ...   \n",
      "401      Heinrich Haarberg run for 2 yds to the PUR 36   \n",
      "407  Heinrich Haarberg sacked by Kydran Jenkins for...   \n",
      "408  Haarberg,Heinrich rush left for 4 yards loss t...   \n",
      "411              Jeff Sims run for 3 yds to the PUR 42   \n",
      "409          Anthony Grant run for 4 yds to the PUR 47   \n",
      "410          Anthony Grant run for 2 yds to the PUR 45   \n",
      "415         Emmett Johnson run for 4 yds to the PUR 44   \n",
      "416         Emmett Johnson run for 4 yds to the PUR 40   \n",
      "417  Emmett Johnson run for 8 yds to the PUR 32 for...   \n",
      "418         Emmett Johnson run for 2 yds to the PUR 30   \n",
      "420      Heinrich Haarberg run for 2 yds to the PUR 28   \n",
      "422  Emmett Johnson run for 28 yds for a TD Purdue ...   \n",
      "424         Emmett Johnson run for 2 yds to the PUR 27   \n",
      "428       Maurice Mazzccua run for 6 yds to the PUR 10   \n",
      "426           Trevin Luben run for 3 yds to the PUR 24   \n",
      "427  Trevin Luben run for 8 yds to the PUR 16 for a...   \n",
      "\n",
      "                    Wallclock  \n",
      "345  2023-10-28T19:48:44.000Z  \n",
      "347  2023-10-28T19:48:44.000Z  \n",
      "349  2023-10-28T19:56:01.000Z  \n",
      "350  2023-10-28T19:56:01.000Z  \n",
      "351  2023-10-28T20:00:55.000Z  \n",
      "353  2023-10-28T20:10:16.000Z  \n",
      "354  2023-10-28T20:10:16.000Z  \n",
      "356  2023-10-28T20:10:16.000Z  \n",
      "357  2023-10-28T20:10:16.000Z  \n",
      "359  2023-10-28T20:19:40.000Z  \n",
      "362  2023-10-28T20:24:06.000Z  \n",
      "361  2023-10-28T20:24:06.000Z  \n",
      "366  2023-10-28T20:28:41.000Z  \n",
      "367  2023-10-28T20:28:41.000Z  \n",
      "368  2023-10-28T20:28:41.000Z  \n",
      "373  2023-10-28T20:50:32.000Z  \n",
      "374  2023-10-28T20:51:55.000Z  \n",
      "376  2023-10-28T20:51:55.000Z  \n",
      "377  2023-10-28T20:51:55.000Z  \n",
      "383  2023-10-28T21:06:22.000Z  \n",
      "385  2023-10-28T21:35:56.000Z  \n",
      "389  2023-10-28T21:44:54.000Z  \n",
      "388  2023-10-28T21:44:54.000Z  \n",
      "391  2023-10-28T21:57:26.000Z  \n",
      "392  2023-10-28T21:57:26.000Z  \n",
      "394  2023-10-28T21:59:34.000Z  \n",
      "395  2023-10-28T21:59:34.000Z  \n",
      "397  2023-10-28T22:05:04.000Z  \n",
      "399  2023-10-28T22:16:23.000Z  \n",
      "400  2023-10-28T22:16:23.000Z  \n",
      "401  2023-10-28T22:16:23.000Z  \n",
      "407  2023-10-28T22:33:18.000Z  \n",
      "408  2023-10-28T22:35:50.000Z  \n",
      "411  2023-10-28T22:42:08.000Z  \n",
      "409  2023-10-28T22:42:08.000Z  \n",
      "410  2023-10-28T22:42:08.000Z  \n",
      "415  2023-10-28T22:52:16.000Z  \n",
      "416  2023-10-28T22:52:16.000Z  \n",
      "417  2023-10-28T22:52:16.000Z  \n",
      "418  2023-10-28T22:52:16.000Z  \n",
      "420  2023-10-28T22:56:16.000Z  \n",
      "422  2023-10-28T22:57:45.000Z  \n",
      "424  2023-10-28T23:06:53.000Z  \n",
      "428  2023-10-28T23:11:32.000Z  \n",
      "426  2023-10-28T23:12:07.000Z  \n",
      "427  2023-10-28T23:12:07.000Z  \n"
     ]
    }
   ],
   "source": [
    "print(neb_off_purdue_rush[chosen_columns].sort_values(by='Wallclock'))"
   ]
  },
  {
   "cell_type": "code",
   "execution_count": null,
   "id": "90e220ab-13b5-424e-a9c6-29ed2be25236",
   "metadata": {},
   "outputs": [],
   "source": []
  }
 ],
 "metadata": {
  "kernelspec": {
   "display_name": "Python 3 (ipykernel)",
   "language": "python",
   "name": "python3"
  },
  "language_info": {
   "codemirror_mode": {
    "name": "ipython",
    "version": 3
   },
   "file_extension": ".py",
   "mimetype": "text/x-python",
   "name": "python",
   "nbconvert_exporter": "python",
   "pygments_lexer": "ipython3",
   "version": "3.12.3"
  }
 },
 "nbformat": 4,
 "nbformat_minor": 5
}
