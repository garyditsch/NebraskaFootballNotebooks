{
 "cells": [
  {
   "cell_type": "code",
   "execution_count": 1,
   "id": "1cc53ea5-6777-4238-9690-f44a8b173836",
   "metadata": {},
   "outputs": [],
   "source": [
    "import os\n",
    "import sqlite3\n",
    "import pandas as pd"
   ]
  },
  {
   "cell_type": "code",
   "execution_count": 2,
   "id": "683e0f2d-66fe-42ba-bc0a-1ade85166cd4",
   "metadata": {},
   "outputs": [],
   "source": [
    "## Reading data from CSV files\n",
    "## Data source: https://collegefootballdata.com/exporter/plays\n",
    "\n",
    "# Set folder to use\n",
    "folder_path = '../2023_CFB_Data_Drive/' "
   ]
  },
  {
   "cell_type": "code",
   "execution_count": 3,
   "id": "41153dc1-2561-4c77-886e-566c23522d0f",
   "metadata": {},
   "outputs": [],
   "source": [
    "# file count\n",
    "file_count = 0\n",
    "\n",
    "# Dictionary for dataframes from csv files\n",
    "dataframe_dictionary = {}\n",
    "\n",
    "# Loop through folder of files, if csv\n",
    "for file_name in os.listdir(folder_path):\n",
    "    # print(file_name)\n",
    "    if file_name.endswith('.csv'):\n",
    "        file_count = file_count + 1\n",
    "        file_path = os.path.join(folder_path, file_name)\n",
    "        dataframe_dictionary[file_count] = file_path\n",
    "    else:\n",
    "        print(f\"Not a csv: {file_path}\")\n",
    "\n",
    "# print(dataframe_dictionary)"
   ]
  },
  {
   "cell_type": "code",
   "execution_count": 4,
   "id": "ea6d4243-9a94-4417-8e5f-9f29fa1f87c8",
   "metadata": {},
   "outputs": [
    {
     "name": "stdout",
     "output_type": "stream",
     "text": [
      "{1: '../2023_CFB_Data_Drive/Neb_Iowa_2023_Drive.csv', 2: '../2023_CFB_Data_Drive/Neb_Michigan_2023_Drive.csv', 3: '../2023_CFB_Data_Drive/Neb_LaTech_2023_Drive.csv', 4: '../2023_CFB_Data_Drive/Neb_Maryland_2023_Drive.csv', 5: '../2023_CFB_Data_Drive/Neb_Wisconsin_2023_Drive.csv', 6: '../2023_CFB_Data_Drive/Neb_Colorado_2023_Drive.csv', 7: '../2023_CFB_Data_Drive/Neb_Minnesota_2023_Drive.csv', 8: '../2023_CFB_Data_Drive/Neb_Northern_Illinois_2023_Drive.csv', 9: '../2023_CFB_Data_Drive/Neb_MichState_2023_Drive.csv', 10: '../2023_CFB_Data_Drive/Neb_Northwestern_2023_Drive.csv', 11: '../2023_CFB_Data_Drive/Neb_Illinois_2023_Drive.csv', 12: '../2023_CFB_Data_Drive/Neb_Purdue_2023_Drive.csv'}\n"
     ]
    }
   ],
   "source": [
    "print(dataframe_dictionary)"
   ]
  },
  {
   "cell_type": "code",
   "execution_count": 5,
   "id": "b1012fb9-6815-4804-ab33-11e4c060881e",
   "metadata": {},
   "outputs": [],
   "source": [
    "# create list to hold dataframes as read in via csv parser\n",
    "dataframes = []\n",
    "\n",
    "# loop through csv files, read and add to list (check for date format)\n",
    "for count, file_path in dataframe_dictionary.items():\n",
    "    try:\n",
    "        df = pd.read_csv(file_path)\n",
    "        dataframes.append(df)\n",
    "    except Exception as e: \n",
    "        print(f'Can note read: {file_path}')"
   ]
  },
  {
   "cell_type": "code",
   "execution_count": 6,
   "id": "3ed5c1cb-4850-4ef1-a746-182f02f3d102",
   "metadata": {},
   "outputs": [
    {
     "name": "stdout",
     "output_type": "stream",
     "text": [
      "12\n"
     ]
    }
   ],
   "source": [
    "# Length should be the same and number of games / files\n",
    "print(len(dataframes))"
   ]
  },
  {
   "cell_type": "code",
   "execution_count": 7,
   "id": "05033286-a541-47fb-9600-544e4d68a427",
   "metadata": {},
   "outputs": [],
   "source": [
    "# combine all the dataframes from list into one df\n",
    "combined_df = pd.concat(dataframes, ignore_index=True)"
   ]
  },
  {
   "cell_type": "code",
   "execution_count": 8,
   "id": "cf6a962d-b4a3-4638-9780-54db0bf577b0",
   "metadata": {},
   "outputs": [
    {
     "name": "stdout",
     "output_type": "stream",
     "text": [
      "287\n"
     ]
    }
   ],
   "source": [
    "# The total number of plays for season and season dataframe\n",
    "print(len(combined_df))"
   ]
  },
  {
   "cell_type": "code",
   "execution_count": 9,
   "id": "bef33557-e5e3-4e73-9630-71233e54edaf",
   "metadata": {},
   "outputs": [],
   "source": [
    "## Use the dataframe and create a sqlite db\n",
    "\n",
    "connection = sqlite3.connect('../2023_SqliteDV.db')"
   ]
  },
  {
   "cell_type": "code",
   "execution_count": 10,
   "id": "3e731de5-a570-4b97-ba8b-d3c467dd67ea",
   "metadata": {},
   "outputs": [
    {
     "data": {
      "text/plain": [
       "287"
      ]
     },
     "execution_count": 10,
     "metadata": {},
     "output_type": "execute_result"
    }
   ],
   "source": [
    "combined_df.to_sql('drives', connection, if_exists='replace', index=False)"
   ]
  },
  {
   "cell_type": "code",
   "execution_count": 11,
   "id": "7c1cf665-6231-41da-adaa-198d9c3d2999",
   "metadata": {},
   "outputs": [],
   "source": [
    "connection.close()"
   ]
  },
  {
   "cell_type": "code",
   "execution_count": null,
   "id": "ce4d591b-c5c7-423d-add4-6e6ee9a1d56b",
   "metadata": {},
   "outputs": [],
   "source": []
  }
 ],
 "metadata": {
  "kernelspec": {
   "display_name": "Python 3 (ipykernel)",
   "language": "python",
   "name": "python3"
  },
  "language_info": {
   "codemirror_mode": {
    "name": "ipython",
    "version": 3
   },
   "file_extension": ".py",
   "mimetype": "text/x-python",
   "name": "python",
   "nbconvert_exporter": "python",
   "pygments_lexer": "ipython3",
   "version": "3.12.3"
  }
 },
 "nbformat": 4,
 "nbformat_minor": 5
}
